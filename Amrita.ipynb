{
 "cells": [
  {
   "cell_type": "markdown",
   "id": "5db5c796",
   "metadata": {},
   "source": [
    "The datasets used in this project are taken from kaggle"
   ]
  },
  {
   "cell_type": "code",
   "execution_count": 37,
   "id": "dfc3201a",
   "metadata": {},
   "outputs": [],
   "source": [
    "import pandas as pd"
   ]
  },
  {
   "cell_type": "markdown",
   "id": "4432ad9d",
   "metadata": {},
   "source": [
    "Loading first dataset into pandas"
   ]
  },
  {
   "cell_type": "code",
   "execution_count": 38,
   "id": "f909560c",
   "metadata": {},
   "outputs": [],
   "source": [
    "Recipes=pd.read_csv(\"C:\\\\Users\\\\hp\\\\Downloads\\\\archive\\\\recipes.csv\")"
   ]
  },
  {
   "cell_type": "code",
   "execution_count": 39,
   "id": "67aceffd",
   "metadata": {},
   "outputs": [
    {
     "data": {
      "text/html": [
       "<div>\n",
       "<style scoped>\n",
       "    .dataframe tbody tr th:only-of-type {\n",
       "        vertical-align: middle;\n",
       "    }\n",
       "\n",
       "    .dataframe tbody tr th {\n",
       "        vertical-align: top;\n",
       "    }\n",
       "\n",
       "    .dataframe thead th {\n",
       "        text-align: right;\n",
       "    }\n",
       "</style>\n",
       "<table border=\"1\" class=\"dataframe\">\n",
       "  <thead>\n",
       "    <tr style=\"text-align: right;\">\n",
       "      <th></th>\n",
       "      <th>RecipeId</th>\n",
       "      <th>Name</th>\n",
       "      <th>AuthorId</th>\n",
       "      <th>AuthorName</th>\n",
       "      <th>CookTime</th>\n",
       "      <th>PrepTime</th>\n",
       "      <th>TotalTime</th>\n",
       "      <th>DatePublished</th>\n",
       "      <th>Description</th>\n",
       "      <th>Images</th>\n",
       "      <th>...</th>\n",
       "      <th>SaturatedFatContent</th>\n",
       "      <th>CholesterolContent</th>\n",
       "      <th>SodiumContent</th>\n",
       "      <th>CarbohydrateContent</th>\n",
       "      <th>FiberContent</th>\n",
       "      <th>SugarContent</th>\n",
       "      <th>ProteinContent</th>\n",
       "      <th>RecipeServings</th>\n",
       "      <th>RecipeYield</th>\n",
       "      <th>RecipeInstructions</th>\n",
       "    </tr>\n",
       "  </thead>\n",
       "  <tbody>\n",
       "    <tr>\n",
       "      <th>0</th>\n",
       "      <td>38</td>\n",
       "      <td>Low-Fat Berry Blue Frozen Dessert</td>\n",
       "      <td>1533</td>\n",
       "      <td>Dancer</td>\n",
       "      <td>PT24H</td>\n",
       "      <td>PT45M</td>\n",
       "      <td>PT24H45M</td>\n",
       "      <td>1999-08-09T21:46:00Z</td>\n",
       "      <td>Make and share this Low-Fat Berry Blue Frozen ...</td>\n",
       "      <td>c(\"https://img.sndimg.com/food/image/upload/w_...</td>\n",
       "      <td>...</td>\n",
       "      <td>1.3</td>\n",
       "      <td>8.0</td>\n",
       "      <td>29.8</td>\n",
       "      <td>37.1</td>\n",
       "      <td>3.6</td>\n",
       "      <td>30.2</td>\n",
       "      <td>3.2</td>\n",
       "      <td>4.0</td>\n",
       "      <td>NaN</td>\n",
       "      <td>c(\"Toss 2 cups berries with sugar.\", \"Let stan...</td>\n",
       "    </tr>\n",
       "    <tr>\n",
       "      <th>1</th>\n",
       "      <td>39</td>\n",
       "      <td>Biryani</td>\n",
       "      <td>1567</td>\n",
       "      <td>elly9812</td>\n",
       "      <td>PT25M</td>\n",
       "      <td>PT4H</td>\n",
       "      <td>PT4H25M</td>\n",
       "      <td>1999-08-29T13:12:00Z</td>\n",
       "      <td>Make and share this Biryani recipe from Food.com.</td>\n",
       "      <td>c(\"https://img.sndimg.com/food/image/upload/w_...</td>\n",
       "      <td>...</td>\n",
       "      <td>16.6</td>\n",
       "      <td>372.8</td>\n",
       "      <td>368.4</td>\n",
       "      <td>84.4</td>\n",
       "      <td>9.0</td>\n",
       "      <td>20.4</td>\n",
       "      <td>63.4</td>\n",
       "      <td>6.0</td>\n",
       "      <td>NaN</td>\n",
       "      <td>c(\"Soak saffron in warm milk for 5 minutes and...</td>\n",
       "    </tr>\n",
       "    <tr>\n",
       "      <th>2</th>\n",
       "      <td>40</td>\n",
       "      <td>Best Lemonade</td>\n",
       "      <td>1566</td>\n",
       "      <td>Stephen Little</td>\n",
       "      <td>PT5M</td>\n",
       "      <td>PT30M</td>\n",
       "      <td>PT35M</td>\n",
       "      <td>1999-09-05T19:52:00Z</td>\n",
       "      <td>This is from one of my  first Good House Keepi...</td>\n",
       "      <td>c(\"https://img.sndimg.com/food/image/upload/w_...</td>\n",
       "      <td>...</td>\n",
       "      <td>0.0</td>\n",
       "      <td>0.0</td>\n",
       "      <td>1.8</td>\n",
       "      <td>81.5</td>\n",
       "      <td>0.4</td>\n",
       "      <td>77.2</td>\n",
       "      <td>0.3</td>\n",
       "      <td>4.0</td>\n",
       "      <td>NaN</td>\n",
       "      <td>c(\"Into a 1 quart Jar with tight fitting lid, ...</td>\n",
       "    </tr>\n",
       "    <tr>\n",
       "      <th>3</th>\n",
       "      <td>41</td>\n",
       "      <td>Carina's Tofu-Vegetable Kebabs</td>\n",
       "      <td>1586</td>\n",
       "      <td>Cyclopz</td>\n",
       "      <td>PT20M</td>\n",
       "      <td>PT24H</td>\n",
       "      <td>PT24H20M</td>\n",
       "      <td>1999-09-03T14:54:00Z</td>\n",
       "      <td>This dish is best prepared a day in advance to...</td>\n",
       "      <td>c(\"https://img.sndimg.com/food/image/upload/w_...</td>\n",
       "      <td>...</td>\n",
       "      <td>3.8</td>\n",
       "      <td>0.0</td>\n",
       "      <td>1558.6</td>\n",
       "      <td>64.2</td>\n",
       "      <td>17.3</td>\n",
       "      <td>32.1</td>\n",
       "      <td>29.3</td>\n",
       "      <td>2.0</td>\n",
       "      <td>4 kebabs</td>\n",
       "      <td>c(\"Drain the tofu, carefully squeezing out exc...</td>\n",
       "    </tr>\n",
       "    <tr>\n",
       "      <th>4</th>\n",
       "      <td>42</td>\n",
       "      <td>Cabbage Soup</td>\n",
       "      <td>1538</td>\n",
       "      <td>Duckie067</td>\n",
       "      <td>PT30M</td>\n",
       "      <td>PT20M</td>\n",
       "      <td>PT50M</td>\n",
       "      <td>1999-09-19T06:19:00Z</td>\n",
       "      <td>Make and share this Cabbage Soup recipe from F...</td>\n",
       "      <td>\"https://img.sndimg.com/food/image/upload/w_55...</td>\n",
       "      <td>...</td>\n",
       "      <td>0.1</td>\n",
       "      <td>0.0</td>\n",
       "      <td>959.3</td>\n",
       "      <td>25.1</td>\n",
       "      <td>4.8</td>\n",
       "      <td>17.7</td>\n",
       "      <td>4.3</td>\n",
       "      <td>4.0</td>\n",
       "      <td>NaN</td>\n",
       "      <td>c(\"Mix everything together and bring to a boil...</td>\n",
       "    </tr>\n",
       "  </tbody>\n",
       "</table>\n",
       "<p>5 rows × 28 columns</p>\n",
       "</div>"
      ],
      "text/plain": [
       "   RecipeId                               Name  AuthorId      AuthorName  \\\n",
       "0        38  Low-Fat Berry Blue Frozen Dessert      1533          Dancer   \n",
       "1        39                            Biryani      1567        elly9812   \n",
       "2        40                      Best Lemonade      1566  Stephen Little   \n",
       "3        41     Carina's Tofu-Vegetable Kebabs      1586         Cyclopz   \n",
       "4        42                       Cabbage Soup      1538       Duckie067   \n",
       "\n",
       "  CookTime PrepTime TotalTime         DatePublished  \\\n",
       "0    PT24H    PT45M  PT24H45M  1999-08-09T21:46:00Z   \n",
       "1    PT25M     PT4H   PT4H25M  1999-08-29T13:12:00Z   \n",
       "2     PT5M    PT30M     PT35M  1999-09-05T19:52:00Z   \n",
       "3    PT20M    PT24H  PT24H20M  1999-09-03T14:54:00Z   \n",
       "4    PT30M    PT20M     PT50M  1999-09-19T06:19:00Z   \n",
       "\n",
       "                                         Description  \\\n",
       "0  Make and share this Low-Fat Berry Blue Frozen ...   \n",
       "1  Make and share this Biryani recipe from Food.com.   \n",
       "2  This is from one of my  first Good House Keepi...   \n",
       "3  This dish is best prepared a day in advance to...   \n",
       "4  Make and share this Cabbage Soup recipe from F...   \n",
       "\n",
       "                                              Images  ... SaturatedFatContent  \\\n",
       "0  c(\"https://img.sndimg.com/food/image/upload/w_...  ...                 1.3   \n",
       "1  c(\"https://img.sndimg.com/food/image/upload/w_...  ...                16.6   \n",
       "2  c(\"https://img.sndimg.com/food/image/upload/w_...  ...                 0.0   \n",
       "3  c(\"https://img.sndimg.com/food/image/upload/w_...  ...                 3.8   \n",
       "4  \"https://img.sndimg.com/food/image/upload/w_55...  ...                 0.1   \n",
       "\n",
       "  CholesterolContent SodiumContent CarbohydrateContent  FiberContent  \\\n",
       "0                8.0          29.8                37.1           3.6   \n",
       "1              372.8         368.4                84.4           9.0   \n",
       "2                0.0           1.8                81.5           0.4   \n",
       "3                0.0        1558.6                64.2          17.3   \n",
       "4                0.0         959.3                25.1           4.8   \n",
       "\n",
       "   SugarContent  ProteinContent  RecipeServings  RecipeYield  \\\n",
       "0          30.2             3.2             4.0          NaN   \n",
       "1          20.4            63.4             6.0          NaN   \n",
       "2          77.2             0.3             4.0          NaN   \n",
       "3          32.1            29.3             2.0     4 kebabs   \n",
       "4          17.7             4.3             4.0          NaN   \n",
       "\n",
       "                                  RecipeInstructions  \n",
       "0  c(\"Toss 2 cups berries with sugar.\", \"Let stan...  \n",
       "1  c(\"Soak saffron in warm milk for 5 minutes and...  \n",
       "2  c(\"Into a 1 quart Jar with tight fitting lid, ...  \n",
       "3  c(\"Drain the tofu, carefully squeezing out exc...  \n",
       "4  c(\"Mix everything together and bring to a boil...  \n",
       "\n",
       "[5 rows x 28 columns]"
      ]
     },
     "execution_count": 39,
     "metadata": {},
     "output_type": "execute_result"
    }
   ],
   "source": [
    "Recipes.head()"
   ]
  },
  {
   "cell_type": "markdown",
   "id": "3a89fd13",
   "metadata": {},
   "source": [
    "To determine the number of rows and columns"
   ]
  },
  {
   "cell_type": "code",
   "execution_count": 40,
   "id": "96c56a6a",
   "metadata": {},
   "outputs": [
    {
     "data": {
      "text/plain": [
       "(522517, 28)"
      ]
     },
     "execution_count": 40,
     "metadata": {},
     "output_type": "execute_result"
    }
   ],
   "source": [
    "Recipes.shape"
   ]
  },
  {
   "cell_type": "markdown",
   "id": "80e169bb",
   "metadata": {},
   "source": [
    "To determine the datatypes of each column"
   ]
  },
  {
   "cell_type": "code",
   "execution_count": 41,
   "id": "b06e820d",
   "metadata": {},
   "outputs": [
    {
     "name": "stdout",
     "output_type": "stream",
     "text": [
      "<class 'pandas.core.frame.DataFrame'>\n",
      "RangeIndex: 522517 entries, 0 to 522516\n",
      "Data columns (total 28 columns):\n",
      " #   Column                      Non-Null Count   Dtype  \n",
      "---  ------                      --------------   -----  \n",
      " 0   RecipeId                    522517 non-null  int64  \n",
      " 1   Name                        522517 non-null  object \n",
      " 2   AuthorId                    522517 non-null  int64  \n",
      " 3   AuthorName                  522517 non-null  object \n",
      " 4   CookTime                    439972 non-null  object \n",
      " 5   PrepTime                    522517 non-null  object \n",
      " 6   TotalTime                   522517 non-null  object \n",
      " 7   DatePublished               522517 non-null  object \n",
      " 8   Description                 522512 non-null  object \n",
      " 9   Images                      522516 non-null  object \n",
      " 10  RecipeCategory              521766 non-null  object \n",
      " 11  Keywords                    505280 non-null  object \n",
      " 12  RecipeIngredientQuantities  522514 non-null  object \n",
      " 13  RecipeIngredientParts       522517 non-null  object \n",
      " 14  AggregatedRating            269294 non-null  float64\n",
      " 15  ReviewCount                 275028 non-null  float64\n",
      " 16  Calories                    522517 non-null  float64\n",
      " 17  FatContent                  522517 non-null  float64\n",
      " 18  SaturatedFatContent         522517 non-null  float64\n",
      " 19  CholesterolContent          522517 non-null  float64\n",
      " 20  SodiumContent               522517 non-null  float64\n",
      " 21  CarbohydrateContent         522517 non-null  float64\n",
      " 22  FiberContent                522517 non-null  float64\n",
      " 23  SugarContent                522517 non-null  float64\n",
      " 24  ProteinContent              522517 non-null  float64\n",
      " 25  RecipeServings              339606 non-null  float64\n",
      " 26  RecipeYield                 174446 non-null  object \n",
      " 27  RecipeInstructions          522517 non-null  object \n",
      "dtypes: float64(12), int64(2), object(14)\n",
      "memory usage: 111.6+ MB\n"
     ]
    }
   ],
   "source": [
    "Recipes.info()"
   ]
  },
  {
   "cell_type": "markdown",
   "id": "af3dae88",
   "metadata": {},
   "source": [
    "To determine column names from Recipes dataset"
   ]
  },
  {
   "cell_type": "code",
   "execution_count": 42,
   "id": "a6a2b493",
   "metadata": {},
   "outputs": [
    {
     "data": {
      "text/plain": [
       "Index(['RecipeId', 'Name', 'AuthorId', 'AuthorName', 'CookTime', 'PrepTime',\n",
       "       'TotalTime', 'DatePublished', 'Description', 'Images', 'RecipeCategory',\n",
       "       'Keywords', 'RecipeIngredientQuantities', 'RecipeIngredientParts',\n",
       "       'AggregatedRating', 'ReviewCount', 'Calories', 'FatContent',\n",
       "       'SaturatedFatContent', 'CholesterolContent', 'SodiumContent',\n",
       "       'CarbohydrateContent', 'FiberContent', 'SugarContent', 'ProteinContent',\n",
       "       'RecipeServings', 'RecipeYield', 'RecipeInstructions'],\n",
       "      dtype='object')"
      ]
     },
     "execution_count": 42,
     "metadata": {},
     "output_type": "execute_result"
    }
   ],
   "source": [
    "Recipes.columns"
   ]
  },
  {
   "cell_type": "markdown",
   "id": "9258da1e",
   "metadata": {},
   "source": [
    "To determine the length of column"
   ]
  },
  {
   "cell_type": "code",
   "execution_count": 43,
   "id": "a2d80720",
   "metadata": {},
   "outputs": [
    {
     "data": {
      "text/plain": [
       "28"
      ]
     },
     "execution_count": 43,
     "metadata": {},
     "output_type": "execute_result"
    }
   ],
   "source": [
    "len(Recipes.columns)"
   ]
  },
  {
   "cell_type": "markdown",
   "id": "abc806bd",
   "metadata": {},
   "source": [
    "loading the second dataset into pandas"
   ]
  },
  {
   "cell_type": "code",
   "execution_count": 44,
   "id": "ac3d42e8",
   "metadata": {},
   "outputs": [],
   "source": [
    "Reviews=pd.read_csv(\"C:\\\\Users\\\\hp\\\\Downloads\\\\archive\\\\reviews.csv\")"
   ]
  },
  {
   "cell_type": "code",
   "execution_count": 45,
   "id": "9cd239cd",
   "metadata": {},
   "outputs": [
    {
     "data": {
      "text/plain": [
       "(1401982, 8)"
      ]
     },
     "execution_count": 45,
     "metadata": {},
     "output_type": "execute_result"
    }
   ],
   "source": [
    "Reviews.shape"
   ]
  },
  {
   "cell_type": "code",
   "execution_count": 46,
   "id": "18694ae1",
   "metadata": {},
   "outputs": [
    {
     "name": "stdout",
     "output_type": "stream",
     "text": [
      "<class 'pandas.core.frame.DataFrame'>\n",
      "RangeIndex: 1401982 entries, 0 to 1401981\n",
      "Data columns (total 8 columns):\n",
      " #   Column         Non-Null Count    Dtype \n",
      "---  ------         --------------    ----- \n",
      " 0   ReviewId       1401982 non-null  int64 \n",
      " 1   RecipeId       1401982 non-null  int64 \n",
      " 2   AuthorId       1401982 non-null  int64 \n",
      " 3   AuthorName     1401982 non-null  object\n",
      " 4   Rating         1401982 non-null  int64 \n",
      " 5   Review         1401768 non-null  object\n",
      " 6   DateSubmitted  1401982 non-null  object\n",
      " 7   DateModified   1401982 non-null  object\n",
      "dtypes: int64(4), object(4)\n",
      "memory usage: 85.6+ MB\n"
     ]
    }
   ],
   "source": [
    "Reviews.info()"
   ]
  },
  {
   "cell_type": "code",
   "execution_count": 47,
   "id": "d570a830",
   "metadata": {},
   "outputs": [
    {
     "data": {
      "text/plain": [
       "Index(['ReviewId', 'RecipeId', 'AuthorId', 'AuthorName', 'Rating', 'Review',\n",
       "       'DateSubmitted', 'DateModified'],\n",
       "      dtype='object')"
      ]
     },
     "execution_count": 47,
     "metadata": {},
     "output_type": "execute_result"
    }
   ],
   "source": [
    "Reviews.columns"
   ]
  },
  {
   "cell_type": "code",
   "execution_count": 48,
   "id": "ad472abf",
   "metadata": {},
   "outputs": [
    {
     "data": {
      "text/plain": [
       "8"
      ]
     },
     "execution_count": 48,
     "metadata": {},
     "output_type": "execute_result"
    }
   ],
   "source": [
    "len(Reviews.columns)"
   ]
  },
  {
   "cell_type": "markdown",
   "id": "de3de0c6",
   "metadata": {},
   "source": [
    "Finding total missing values present in recipes datasets"
   ]
  },
  {
   "cell_type": "code",
   "execution_count": 49,
   "id": "c51e9e05",
   "metadata": {},
   "outputs": [
    {
     "data": {
      "text/html": [
       "<div>\n",
       "<style scoped>\n",
       "    .dataframe tbody tr th:only-of-type {\n",
       "        vertical-align: middle;\n",
       "    }\n",
       "\n",
       "    .dataframe tbody tr th {\n",
       "        vertical-align: top;\n",
       "    }\n",
       "\n",
       "    .dataframe thead th {\n",
       "        text-align: right;\n",
       "    }\n",
       "</style>\n",
       "<table border=\"1\" class=\"dataframe\">\n",
       "  <thead>\n",
       "    <tr style=\"text-align: right;\">\n",
       "      <th></th>\n",
       "      <th>RecipeId</th>\n",
       "      <th>Name</th>\n",
       "      <th>AuthorId</th>\n",
       "      <th>AuthorName</th>\n",
       "      <th>CookTime</th>\n",
       "      <th>PrepTime</th>\n",
       "      <th>TotalTime</th>\n",
       "      <th>DatePublished</th>\n",
       "      <th>Description</th>\n",
       "      <th>Images</th>\n",
       "      <th>...</th>\n",
       "      <th>SaturatedFatContent</th>\n",
       "      <th>CholesterolContent</th>\n",
       "      <th>SodiumContent</th>\n",
       "      <th>CarbohydrateContent</th>\n",
       "      <th>FiberContent</th>\n",
       "      <th>SugarContent</th>\n",
       "      <th>ProteinContent</th>\n",
       "      <th>RecipeServings</th>\n",
       "      <th>RecipeYield</th>\n",
       "      <th>RecipeInstructions</th>\n",
       "    </tr>\n",
       "  </thead>\n",
       "  <tbody>\n",
       "    <tr>\n",
       "      <th>0</th>\n",
       "      <td>False</td>\n",
       "      <td>False</td>\n",
       "      <td>False</td>\n",
       "      <td>False</td>\n",
       "      <td>False</td>\n",
       "      <td>False</td>\n",
       "      <td>False</td>\n",
       "      <td>False</td>\n",
       "      <td>False</td>\n",
       "      <td>False</td>\n",
       "      <td>...</td>\n",
       "      <td>False</td>\n",
       "      <td>False</td>\n",
       "      <td>False</td>\n",
       "      <td>False</td>\n",
       "      <td>False</td>\n",
       "      <td>False</td>\n",
       "      <td>False</td>\n",
       "      <td>False</td>\n",
       "      <td>True</td>\n",
       "      <td>False</td>\n",
       "    </tr>\n",
       "    <tr>\n",
       "      <th>1</th>\n",
       "      <td>False</td>\n",
       "      <td>False</td>\n",
       "      <td>False</td>\n",
       "      <td>False</td>\n",
       "      <td>False</td>\n",
       "      <td>False</td>\n",
       "      <td>False</td>\n",
       "      <td>False</td>\n",
       "      <td>False</td>\n",
       "      <td>False</td>\n",
       "      <td>...</td>\n",
       "      <td>False</td>\n",
       "      <td>False</td>\n",
       "      <td>False</td>\n",
       "      <td>False</td>\n",
       "      <td>False</td>\n",
       "      <td>False</td>\n",
       "      <td>False</td>\n",
       "      <td>False</td>\n",
       "      <td>True</td>\n",
       "      <td>False</td>\n",
       "    </tr>\n",
       "    <tr>\n",
       "      <th>2</th>\n",
       "      <td>False</td>\n",
       "      <td>False</td>\n",
       "      <td>False</td>\n",
       "      <td>False</td>\n",
       "      <td>False</td>\n",
       "      <td>False</td>\n",
       "      <td>False</td>\n",
       "      <td>False</td>\n",
       "      <td>False</td>\n",
       "      <td>False</td>\n",
       "      <td>...</td>\n",
       "      <td>False</td>\n",
       "      <td>False</td>\n",
       "      <td>False</td>\n",
       "      <td>False</td>\n",
       "      <td>False</td>\n",
       "      <td>False</td>\n",
       "      <td>False</td>\n",
       "      <td>False</td>\n",
       "      <td>True</td>\n",
       "      <td>False</td>\n",
       "    </tr>\n",
       "    <tr>\n",
       "      <th>3</th>\n",
       "      <td>False</td>\n",
       "      <td>False</td>\n",
       "      <td>False</td>\n",
       "      <td>False</td>\n",
       "      <td>False</td>\n",
       "      <td>False</td>\n",
       "      <td>False</td>\n",
       "      <td>False</td>\n",
       "      <td>False</td>\n",
       "      <td>False</td>\n",
       "      <td>...</td>\n",
       "      <td>False</td>\n",
       "      <td>False</td>\n",
       "      <td>False</td>\n",
       "      <td>False</td>\n",
       "      <td>False</td>\n",
       "      <td>False</td>\n",
       "      <td>False</td>\n",
       "      <td>False</td>\n",
       "      <td>False</td>\n",
       "      <td>False</td>\n",
       "    </tr>\n",
       "    <tr>\n",
       "      <th>4</th>\n",
       "      <td>False</td>\n",
       "      <td>False</td>\n",
       "      <td>False</td>\n",
       "      <td>False</td>\n",
       "      <td>False</td>\n",
       "      <td>False</td>\n",
       "      <td>False</td>\n",
       "      <td>False</td>\n",
       "      <td>False</td>\n",
       "      <td>False</td>\n",
       "      <td>...</td>\n",
       "      <td>False</td>\n",
       "      <td>False</td>\n",
       "      <td>False</td>\n",
       "      <td>False</td>\n",
       "      <td>False</td>\n",
       "      <td>False</td>\n",
       "      <td>False</td>\n",
       "      <td>False</td>\n",
       "      <td>True</td>\n",
       "      <td>False</td>\n",
       "    </tr>\n",
       "    <tr>\n",
       "      <th>...</th>\n",
       "      <td>...</td>\n",
       "      <td>...</td>\n",
       "      <td>...</td>\n",
       "      <td>...</td>\n",
       "      <td>...</td>\n",
       "      <td>...</td>\n",
       "      <td>...</td>\n",
       "      <td>...</td>\n",
       "      <td>...</td>\n",
       "      <td>...</td>\n",
       "      <td>...</td>\n",
       "      <td>...</td>\n",
       "      <td>...</td>\n",
       "      <td>...</td>\n",
       "      <td>...</td>\n",
       "      <td>...</td>\n",
       "      <td>...</td>\n",
       "      <td>...</td>\n",
       "      <td>...</td>\n",
       "      <td>...</td>\n",
       "      <td>...</td>\n",
       "    </tr>\n",
       "    <tr>\n",
       "      <th>522512</th>\n",
       "      <td>False</td>\n",
       "      <td>False</td>\n",
       "      <td>False</td>\n",
       "      <td>False</td>\n",
       "      <td>False</td>\n",
       "      <td>False</td>\n",
       "      <td>False</td>\n",
       "      <td>False</td>\n",
       "      <td>False</td>\n",
       "      <td>False</td>\n",
       "      <td>...</td>\n",
       "      <td>False</td>\n",
       "      <td>False</td>\n",
       "      <td>False</td>\n",
       "      <td>False</td>\n",
       "      <td>False</td>\n",
       "      <td>False</td>\n",
       "      <td>False</td>\n",
       "      <td>False</td>\n",
       "      <td>False</td>\n",
       "      <td>False</td>\n",
       "    </tr>\n",
       "    <tr>\n",
       "      <th>522513</th>\n",
       "      <td>False</td>\n",
       "      <td>False</td>\n",
       "      <td>False</td>\n",
       "      <td>False</td>\n",
       "      <td>False</td>\n",
       "      <td>False</td>\n",
       "      <td>False</td>\n",
       "      <td>False</td>\n",
       "      <td>False</td>\n",
       "      <td>False</td>\n",
       "      <td>...</td>\n",
       "      <td>False</td>\n",
       "      <td>False</td>\n",
       "      <td>False</td>\n",
       "      <td>False</td>\n",
       "      <td>False</td>\n",
       "      <td>False</td>\n",
       "      <td>False</td>\n",
       "      <td>False</td>\n",
       "      <td>False</td>\n",
       "      <td>False</td>\n",
       "    </tr>\n",
       "    <tr>\n",
       "      <th>522514</th>\n",
       "      <td>False</td>\n",
       "      <td>False</td>\n",
       "      <td>False</td>\n",
       "      <td>False</td>\n",
       "      <td>False</td>\n",
       "      <td>False</td>\n",
       "      <td>False</td>\n",
       "      <td>False</td>\n",
       "      <td>False</td>\n",
       "      <td>False</td>\n",
       "      <td>...</td>\n",
       "      <td>False</td>\n",
       "      <td>False</td>\n",
       "      <td>False</td>\n",
       "      <td>False</td>\n",
       "      <td>False</td>\n",
       "      <td>False</td>\n",
       "      <td>False</td>\n",
       "      <td>False</td>\n",
       "      <td>True</td>\n",
       "      <td>False</td>\n",
       "    </tr>\n",
       "    <tr>\n",
       "      <th>522515</th>\n",
       "      <td>False</td>\n",
       "      <td>False</td>\n",
       "      <td>False</td>\n",
       "      <td>False</td>\n",
       "      <td>True</td>\n",
       "      <td>False</td>\n",
       "      <td>False</td>\n",
       "      <td>False</td>\n",
       "      <td>False</td>\n",
       "      <td>False</td>\n",
       "      <td>...</td>\n",
       "      <td>False</td>\n",
       "      <td>False</td>\n",
       "      <td>False</td>\n",
       "      <td>False</td>\n",
       "      <td>False</td>\n",
       "      <td>False</td>\n",
       "      <td>False</td>\n",
       "      <td>True</td>\n",
       "      <td>False</td>\n",
       "      <td>False</td>\n",
       "    </tr>\n",
       "    <tr>\n",
       "      <th>522516</th>\n",
       "      <td>False</td>\n",
       "      <td>False</td>\n",
       "      <td>False</td>\n",
       "      <td>False</td>\n",
       "      <td>False</td>\n",
       "      <td>False</td>\n",
       "      <td>False</td>\n",
       "      <td>False</td>\n",
       "      <td>False</td>\n",
       "      <td>False</td>\n",
       "      <td>...</td>\n",
       "      <td>False</td>\n",
       "      <td>False</td>\n",
       "      <td>False</td>\n",
       "      <td>False</td>\n",
       "      <td>False</td>\n",
       "      <td>False</td>\n",
       "      <td>False</td>\n",
       "      <td>True</td>\n",
       "      <td>True</td>\n",
       "      <td>False</td>\n",
       "    </tr>\n",
       "  </tbody>\n",
       "</table>\n",
       "<p>522517 rows × 28 columns</p>\n",
       "</div>"
      ],
      "text/plain": [
       "        RecipeId   Name  AuthorId  AuthorName  CookTime  PrepTime  TotalTime  \\\n",
       "0          False  False     False       False     False     False      False   \n",
       "1          False  False     False       False     False     False      False   \n",
       "2          False  False     False       False     False     False      False   \n",
       "3          False  False     False       False     False     False      False   \n",
       "4          False  False     False       False     False     False      False   \n",
       "...          ...    ...       ...         ...       ...       ...        ...   \n",
       "522512     False  False     False       False     False     False      False   \n",
       "522513     False  False     False       False     False     False      False   \n",
       "522514     False  False     False       False     False     False      False   \n",
       "522515     False  False     False       False      True     False      False   \n",
       "522516     False  False     False       False     False     False      False   \n",
       "\n",
       "        DatePublished  Description  Images  ...  SaturatedFatContent  \\\n",
       "0               False        False   False  ...                False   \n",
       "1               False        False   False  ...                False   \n",
       "2               False        False   False  ...                False   \n",
       "3               False        False   False  ...                False   \n",
       "4               False        False   False  ...                False   \n",
       "...               ...          ...     ...  ...                  ...   \n",
       "522512          False        False   False  ...                False   \n",
       "522513          False        False   False  ...                False   \n",
       "522514          False        False   False  ...                False   \n",
       "522515          False        False   False  ...                False   \n",
       "522516          False        False   False  ...                False   \n",
       "\n",
       "        CholesterolContent  SodiumContent  CarbohydrateContent  FiberContent  \\\n",
       "0                    False          False                False         False   \n",
       "1                    False          False                False         False   \n",
       "2                    False          False                False         False   \n",
       "3                    False          False                False         False   \n",
       "4                    False          False                False         False   \n",
       "...                    ...            ...                  ...           ...   \n",
       "522512               False          False                False         False   \n",
       "522513               False          False                False         False   \n",
       "522514               False          False                False         False   \n",
       "522515               False          False                False         False   \n",
       "522516               False          False                False         False   \n",
       "\n",
       "        SugarContent  ProteinContent  RecipeServings  RecipeYield  \\\n",
       "0              False           False           False         True   \n",
       "1              False           False           False         True   \n",
       "2              False           False           False         True   \n",
       "3              False           False           False        False   \n",
       "4              False           False           False         True   \n",
       "...              ...             ...             ...          ...   \n",
       "522512         False           False           False        False   \n",
       "522513         False           False           False        False   \n",
       "522514         False           False           False         True   \n",
       "522515         False           False            True        False   \n",
       "522516         False           False            True         True   \n",
       "\n",
       "        RecipeInstructions  \n",
       "0                    False  \n",
       "1                    False  \n",
       "2                    False  \n",
       "3                    False  \n",
       "4                    False  \n",
       "...                    ...  \n",
       "522512               False  \n",
       "522513               False  \n",
       "522514               False  \n",
       "522515               False  \n",
       "522516               False  \n",
       "\n",
       "[522517 rows x 28 columns]"
      ]
     },
     "execution_count": 49,
     "metadata": {},
     "output_type": "execute_result"
    }
   ],
   "source": [
    "Recipes.isna()"
   ]
  },
  {
   "cell_type": "markdown",
   "id": "ea9c604f",
   "metadata": {},
   "source": [
    "Finding total missing values present in reviews datasets"
   ]
  },
  {
   "cell_type": "code",
   "execution_count": 50,
   "id": "e02be6f7",
   "metadata": {},
   "outputs": [
    {
     "data": {
      "text/html": [
       "<div>\n",
       "<style scoped>\n",
       "    .dataframe tbody tr th:only-of-type {\n",
       "        vertical-align: middle;\n",
       "    }\n",
       "\n",
       "    .dataframe tbody tr th {\n",
       "        vertical-align: top;\n",
       "    }\n",
       "\n",
       "    .dataframe thead th {\n",
       "        text-align: right;\n",
       "    }\n",
       "</style>\n",
       "<table border=\"1\" class=\"dataframe\">\n",
       "  <thead>\n",
       "    <tr style=\"text-align: right;\">\n",
       "      <th></th>\n",
       "      <th>ReviewId</th>\n",
       "      <th>RecipeId</th>\n",
       "      <th>AuthorId</th>\n",
       "      <th>AuthorName</th>\n",
       "      <th>Rating</th>\n",
       "      <th>Review</th>\n",
       "      <th>DateSubmitted</th>\n",
       "      <th>DateModified</th>\n",
       "    </tr>\n",
       "  </thead>\n",
       "  <tbody>\n",
       "    <tr>\n",
       "      <th>0</th>\n",
       "      <td>False</td>\n",
       "      <td>False</td>\n",
       "      <td>False</td>\n",
       "      <td>False</td>\n",
       "      <td>False</td>\n",
       "      <td>False</td>\n",
       "      <td>False</td>\n",
       "      <td>False</td>\n",
       "    </tr>\n",
       "    <tr>\n",
       "      <th>1</th>\n",
       "      <td>False</td>\n",
       "      <td>False</td>\n",
       "      <td>False</td>\n",
       "      <td>False</td>\n",
       "      <td>False</td>\n",
       "      <td>False</td>\n",
       "      <td>False</td>\n",
       "      <td>False</td>\n",
       "    </tr>\n",
       "    <tr>\n",
       "      <th>2</th>\n",
       "      <td>False</td>\n",
       "      <td>False</td>\n",
       "      <td>False</td>\n",
       "      <td>False</td>\n",
       "      <td>False</td>\n",
       "      <td>False</td>\n",
       "      <td>False</td>\n",
       "      <td>False</td>\n",
       "    </tr>\n",
       "    <tr>\n",
       "      <th>3</th>\n",
       "      <td>False</td>\n",
       "      <td>False</td>\n",
       "      <td>False</td>\n",
       "      <td>False</td>\n",
       "      <td>False</td>\n",
       "      <td>False</td>\n",
       "      <td>False</td>\n",
       "      <td>False</td>\n",
       "    </tr>\n",
       "    <tr>\n",
       "      <th>4</th>\n",
       "      <td>False</td>\n",
       "      <td>False</td>\n",
       "      <td>False</td>\n",
       "      <td>False</td>\n",
       "      <td>False</td>\n",
       "      <td>False</td>\n",
       "      <td>False</td>\n",
       "      <td>False</td>\n",
       "    </tr>\n",
       "    <tr>\n",
       "      <th>...</th>\n",
       "      <td>...</td>\n",
       "      <td>...</td>\n",
       "      <td>...</td>\n",
       "      <td>...</td>\n",
       "      <td>...</td>\n",
       "      <td>...</td>\n",
       "      <td>...</td>\n",
       "      <td>...</td>\n",
       "    </tr>\n",
       "    <tr>\n",
       "      <th>1401977</th>\n",
       "      <td>False</td>\n",
       "      <td>False</td>\n",
       "      <td>False</td>\n",
       "      <td>False</td>\n",
       "      <td>False</td>\n",
       "      <td>False</td>\n",
       "      <td>False</td>\n",
       "      <td>False</td>\n",
       "    </tr>\n",
       "    <tr>\n",
       "      <th>1401978</th>\n",
       "      <td>False</td>\n",
       "      <td>False</td>\n",
       "      <td>False</td>\n",
       "      <td>False</td>\n",
       "      <td>False</td>\n",
       "      <td>False</td>\n",
       "      <td>False</td>\n",
       "      <td>False</td>\n",
       "    </tr>\n",
       "    <tr>\n",
       "      <th>1401979</th>\n",
       "      <td>False</td>\n",
       "      <td>False</td>\n",
       "      <td>False</td>\n",
       "      <td>False</td>\n",
       "      <td>False</td>\n",
       "      <td>False</td>\n",
       "      <td>False</td>\n",
       "      <td>False</td>\n",
       "    </tr>\n",
       "    <tr>\n",
       "      <th>1401980</th>\n",
       "      <td>False</td>\n",
       "      <td>False</td>\n",
       "      <td>False</td>\n",
       "      <td>False</td>\n",
       "      <td>False</td>\n",
       "      <td>False</td>\n",
       "      <td>False</td>\n",
       "      <td>False</td>\n",
       "    </tr>\n",
       "    <tr>\n",
       "      <th>1401981</th>\n",
       "      <td>False</td>\n",
       "      <td>False</td>\n",
       "      <td>False</td>\n",
       "      <td>False</td>\n",
       "      <td>False</td>\n",
       "      <td>False</td>\n",
       "      <td>False</td>\n",
       "      <td>False</td>\n",
       "    </tr>\n",
       "  </tbody>\n",
       "</table>\n",
       "<p>1401982 rows × 8 columns</p>\n",
       "</div>"
      ],
      "text/plain": [
       "         ReviewId  RecipeId  AuthorId  AuthorName  Rating  Review  \\\n",
       "0           False     False     False       False   False   False   \n",
       "1           False     False     False       False   False   False   \n",
       "2           False     False     False       False   False   False   \n",
       "3           False     False     False       False   False   False   \n",
       "4           False     False     False       False   False   False   \n",
       "...           ...       ...       ...         ...     ...     ...   \n",
       "1401977     False     False     False       False   False   False   \n",
       "1401978     False     False     False       False   False   False   \n",
       "1401979     False     False     False       False   False   False   \n",
       "1401980     False     False     False       False   False   False   \n",
       "1401981     False     False     False       False   False   False   \n",
       "\n",
       "         DateSubmitted  DateModified  \n",
       "0                False         False  \n",
       "1                False         False  \n",
       "2                False         False  \n",
       "3                False         False  \n",
       "4                False         False  \n",
       "...                ...           ...  \n",
       "1401977          False         False  \n",
       "1401978          False         False  \n",
       "1401979          False         False  \n",
       "1401980          False         False  \n",
       "1401981          False         False  \n",
       "\n",
       "[1401982 rows x 8 columns]"
      ]
     },
     "execution_count": 50,
     "metadata": {},
     "output_type": "execute_result"
    }
   ],
   "source": [
    "Reviews.isna()"
   ]
  },
  {
   "cell_type": "markdown",
   "id": "318c4c80",
   "metadata": {},
   "source": [
    "finding missing values in each column in the recipes datasets"
   ]
  },
  {
   "cell_type": "code",
   "execution_count": 51,
   "id": "528d7fd0",
   "metadata": {},
   "outputs": [
    {
     "data": {
      "text/plain": [
       "RecipeId                           0\n",
       "Name                               0\n",
       "AuthorId                           0\n",
       "AuthorName                         0\n",
       "CookTime                       82545\n",
       "PrepTime                           0\n",
       "TotalTime                          0\n",
       "DatePublished                      0\n",
       "Description                        5\n",
       "Images                             1\n",
       "RecipeCategory                   751\n",
       "Keywords                       17237\n",
       "RecipeIngredientQuantities         3\n",
       "RecipeIngredientParts              0\n",
       "AggregatedRating              253223\n",
       "ReviewCount                   247489\n",
       "Calories                           0\n",
       "FatContent                         0\n",
       "SaturatedFatContent                0\n",
       "CholesterolContent                 0\n",
       "SodiumContent                      0\n",
       "CarbohydrateContent                0\n",
       "FiberContent                       0\n",
       "SugarContent                       0\n",
       "ProteinContent                     0\n",
       "RecipeServings                182911\n",
       "RecipeYield                   348071\n",
       "RecipeInstructions                 0\n",
       "dtype: int64"
      ]
     },
     "execution_count": 51,
     "metadata": {},
     "output_type": "execute_result"
    }
   ],
   "source": [
    "Recipes.isna().sum()"
   ]
  },
  {
   "cell_type": "markdown",
   "id": "22cfdaa2",
   "metadata": {},
   "source": [
    "dropping columns that are not required"
   ]
  },
  {
   "cell_type": "code",
   "execution_count": 52,
   "id": "b7a218f8",
   "metadata": {},
   "outputs": [],
   "source": [
    "Recipes.drop(columns=[\"RecipeServings\",\"RecipeYield\"],inplace=True)"
   ]
  },
  {
   "cell_type": "markdown",
   "id": "7f5d2ac7",
   "metadata": {},
   "source": [
    "checking if the columns are dropped"
   ]
  },
  {
   "cell_type": "code",
   "execution_count": 53,
   "id": "4426f4c5",
   "metadata": {},
   "outputs": [
    {
     "data": {
      "text/plain": [
       "RecipeId                           0\n",
       "Name                               0\n",
       "AuthorId                           0\n",
       "AuthorName                         0\n",
       "CookTime                       82545\n",
       "PrepTime                           0\n",
       "TotalTime                          0\n",
       "DatePublished                      0\n",
       "Description                        5\n",
       "Images                             1\n",
       "RecipeCategory                   751\n",
       "Keywords                       17237\n",
       "RecipeIngredientQuantities         3\n",
       "RecipeIngredientParts              0\n",
       "AggregatedRating              253223\n",
       "ReviewCount                   247489\n",
       "Calories                           0\n",
       "FatContent                         0\n",
       "SaturatedFatContent                0\n",
       "CholesterolContent                 0\n",
       "SodiumContent                      0\n",
       "CarbohydrateContent                0\n",
       "FiberContent                       0\n",
       "SugarContent                       0\n",
       "ProteinContent                     0\n",
       "RecipeInstructions                 0\n",
       "dtype: int64"
      ]
     },
     "execution_count": 53,
     "metadata": {},
     "output_type": "execute_result"
    }
   ],
   "source": [
    "Recipes.isna().sum()"
   ]
  },
  {
   "cell_type": "markdown",
   "id": "ac3f6ea0",
   "metadata": {},
   "source": [
    "Replacing missing values identified in each column"
   ]
  },
  {
   "cell_type": "code",
   "execution_count": 54,
   "id": "dc5ebf79",
   "metadata": {},
   "outputs": [],
   "source": [
    "Recipes[\"CookTime\"].fillna('NA',inplace = True)\n",
    "Recipes[\"Description\"].fillna('NA',inplace = True)\n",
    "Recipes[\"RecipeCategory\"].fillna('NA',inplace = True)\n",
    "Recipes[\"Keywords\"].fillna('NA',inplace = True)\n",
    "Recipes[\"RecipeIngredientQuantities\"].fillna('NA',inplace = True)\n",
    "Recipes[\"Images\"].fillna('NA',inplace = True)\n",
    "Recipes[\"AggregatedRating\"].fillna(Recipes[\"AggregatedRating\"].median(),inplace=True)\n",
    "Recipes[\"ReviewCount\"].fillna(Recipes[\"ReviewCount\"].median(),inplace=True)"
   ]
  },
  {
   "cell_type": "markdown",
   "id": "9ca840b4",
   "metadata": {},
   "source": [
    "Checking if all the missing values are sorted in Recipes dataset"
   ]
  },
  {
   "cell_type": "code",
   "execution_count": 55,
   "id": "12d690b1",
   "metadata": {},
   "outputs": [
    {
     "data": {
      "text/plain": [
       "RecipeId                      0\n",
       "Name                          0\n",
       "AuthorId                      0\n",
       "AuthorName                    0\n",
       "CookTime                      0\n",
       "PrepTime                      0\n",
       "TotalTime                     0\n",
       "DatePublished                 0\n",
       "Description                   0\n",
       "Images                        0\n",
       "RecipeCategory                0\n",
       "Keywords                      0\n",
       "RecipeIngredientQuantities    0\n",
       "RecipeIngredientParts         0\n",
       "AggregatedRating              0\n",
       "ReviewCount                   0\n",
       "Calories                      0\n",
       "FatContent                    0\n",
       "SaturatedFatContent           0\n",
       "CholesterolContent            0\n",
       "SodiumContent                 0\n",
       "CarbohydrateContent           0\n",
       "FiberContent                  0\n",
       "SugarContent                  0\n",
       "ProteinContent                0\n",
       "RecipeInstructions            0\n",
       "dtype: int64"
      ]
     },
     "execution_count": 55,
     "metadata": {},
     "output_type": "execute_result"
    }
   ],
   "source": [
    "Recipes.isna().sum()"
   ]
  },
  {
   "cell_type": "markdown",
   "id": "5382cf2c",
   "metadata": {},
   "source": [
    "finding missing values in each column in the reviews datasets"
   ]
  },
  {
   "cell_type": "code",
   "execution_count": 56,
   "id": "329156f4",
   "metadata": {},
   "outputs": [
    {
     "data": {
      "text/plain": [
       "ReviewId           0\n",
       "RecipeId           0\n",
       "AuthorId           0\n",
       "AuthorName         0\n",
       "Rating             0\n",
       "Review           214\n",
       "DateSubmitted      0\n",
       "DateModified       0\n",
       "dtype: int64"
      ]
     },
     "execution_count": 56,
     "metadata": {},
     "output_type": "execute_result"
    }
   ],
   "source": [
    "Reviews.isna().sum()"
   ]
  },
  {
   "cell_type": "markdown",
   "id": "fcc91c6a",
   "metadata": {},
   "source": [
    "sorting the column having missing value"
   ]
  },
  {
   "cell_type": "code",
   "execution_count": 57,
   "id": "214ba72b",
   "metadata": {},
   "outputs": [],
   "source": [
    "Reviews[\"Review\"].fillna('NA',inplace = True)"
   ]
  },
  {
   "cell_type": "markdown",
   "id": "7a3bab71",
   "metadata": {},
   "source": [
    "Checking if the missing value is sorted"
   ]
  },
  {
   "cell_type": "code",
   "execution_count": 58,
   "id": "98676cd1",
   "metadata": {},
   "outputs": [
    {
     "data": {
      "text/plain": [
       "ReviewId         0\n",
       "RecipeId         0\n",
       "AuthorId         0\n",
       "AuthorName       0\n",
       "Rating           0\n",
       "Review           0\n",
       "DateSubmitted    0\n",
       "DateModified     0\n",
       "dtype: int64"
      ]
     },
     "execution_count": 58,
     "metadata": {},
     "output_type": "execute_result"
    }
   ],
   "source": [
    "Reviews.isna().sum()"
   ]
  },
  {
   "cell_type": "markdown",
   "id": "37a8fc14",
   "metadata": {},
   "source": [
    "combining both the datasets"
   ]
  },
  {
   "cell_type": "code",
   "execution_count": 59,
   "id": "a35cbe06",
   "metadata": {},
   "outputs": [
    {
     "name": "stdout",
     "output_type": "stream",
     "text": [
      "     RecipeId                                               Name  AuthorId  \\\n",
      "0        4627                           Chicken Tortilla Soup II      1938   \n",
      "1        4873                                  Roast Leg of Lamb     71324   \n",
      "2        4981           Crock Pot Chicken &aacute; La Antoinette     64642   \n",
      "3        5174                                          Amish Dip      1634   \n",
      "4        6454             Mashed Potatoes with Horseradish Cream     29196   \n",
      "..        ...                                                ...       ...   \n",
      "805    170702          Beef, Blue Cheese and Spinach Quesadillas    286851   \n",
      "806    184185                                       French Toast     17803   \n",
      "807    222758                        Beer Beef Fajitas Crock Pot      4439   \n",
      "808    387021  Fudgy Mocha Frosting W/Pecans--Or Hazelnut Cof...    381180   \n",
      "809    454920                       Creamy Pasta and Portabellas    488441   \n",
      "\n",
      "              AuthorName CookTime PrepTime TotalTime         DatePublished  \\\n",
      "0          Eddie Shipman    PT50M    PT20M   PT1H10M  1999-11-17T09:01:00Z   \n",
      "1               -Sylvie-     PT2H    PT10M   PT2H10M  1999-11-24T06:06:00Z   \n",
      "2                Molly53     PT2H    PT10M   PT2H10M  1999-11-27T07:25:00Z   \n",
      "3          Bill Hilbrich       NA    PT15M     PT15M  1999-12-11T18:18:00Z   \n",
      "4               JustJanS       NA     PT0S      PT0S  2000-03-06T16:08:00Z   \n",
      "..                   ...      ...      ...       ...                   ...   \n",
      "805           AndreaVT96    PT16M    PT12M     PT28M  2006-05-30T20:50:00Z   \n",
      "806          Charlotte J       NA     PT5M      PT5M  2006-08-31T16:56:00Z   \n",
      "807           mandabears     PT8H    PT10M   PT8H10M  2007-04-16T16:20:00Z   \n",
      "808  KerfuffleUponWincle     PT1M    PT10M     PT11M  2009-08-25T02:20:00Z   \n",
      "809            pamela t.    PT20M    PT20M     PT40M  2011-05-02T22:11:00Z   \n",
      "\n",
      "                                           Description  \\\n",
      "0    I'm getting tired of seeing the so-called tort...   \n",
      "1    A simple recipe with sensational flavor! I've ...   \n",
      "2    I use the slow cooker during the summer for th...   \n",
      "3    This recipe comes from Marsha Adams, who hoste...   \n",
      "4    Make and share this  Mashed Potatoes with Hors...   \n",
      "..                                                 ...   \n",
      "805  This was a recipe that I received at a recent ...   \n",
      "806  Make and share this French Toast recipe from F...   \n",
      "807  A great Sandra Lee Semi-Homemade recipe. Easy ...   \n",
      "808  A quick basic cocoa frosting that isn't overly...   \n",
      "809  Make and share this Creamy Pasta and Portabell...   \n",
      "\n",
      "                                                Images  ...  \\\n",
      "0    c(\"https://img.sndimg.com/food/image/upload/w_...  ...   \n",
      "1    c(\"https://img.sndimg.com/food/image/upload/w_...  ...   \n",
      "2    c(\"https://img.sndimg.com/food/image/upload/w_...  ...   \n",
      "3    \"https://img.sndimg.com/food/image/upload/w_55...  ...   \n",
      "4    c(\"https://img.sndimg.com/food/image/upload/w_...  ...   \n",
      "..                                                 ...  ...   \n",
      "805  \"https://img.sndimg.com/food/image/upload/w_55...  ...   \n",
      "806  c(\"https://img.sndimg.com/food/image/upload/w_...  ...   \n",
      "807                                       character(0)  ...   \n",
      "808  c(\"https://img.sndimg.com/food/image/upload/w_...  ...   \n",
      "809                                       character(0)  ...   \n",
      "\n",
      "    CarbohydrateContent FiberContent SugarContent ProteinContent  \\\n",
      "0                  12.8          2.6          4.8           26.8   \n",
      "1                   2.4          0.4          0.5            0.2   \n",
      "2                  12.2          0.7          1.7           32.2   \n",
      "3                   7.9          2.0          3.2           22.0   \n",
      "4                  47.8          6.0          3.4            6.1   \n",
      "..                  ...          ...          ...            ...   \n",
      "805                 9.7          4.7          3.0           18.1   \n",
      "806                 0.7          0.0          0.0            0.5   \n",
      "807                 6.3          1.4          2.9           33.3   \n",
      "808               613.9         27.1        555.5           30.8   \n",
      "809                40.6          2.0          2.6           22.2   \n",
      "\n",
      "                                    RecipeInstructions  ReviewId  Rating  \\\n",
      "0    c(\"Saute carrots, onions, celery in corn oil, ...     33942       0   \n",
      "1    c(\"Remove lamb from refrigerator 1 hour before...    151935       0   \n",
      "2    c(\"Saute onions and mushrooms in olive oil.\", ...     43381       0   \n",
      "3    c(\"Mix all the ingredients, adding more or les...      1784       0   \n",
      "4    c(\"Peel and quarter potatoes.\", \"Cook in boili...     12484       0   \n",
      "..                                                 ...       ...     ...   \n",
      "805  c(\"Stir together the beef and taco sauce.\", \"L...    615795       4   \n",
      "806  c(\"Combine ingredients over cracked ice in coc...    681639       3   \n",
      "807  c(\"Rinse steaks well with cold water.\", \"Pat d...    505822       0   \n",
      "808  c(\"In a hot dry iron skillet, TOAST pecans, st...   1288975       0   \n",
      "809  c(\"Prepare cavatappi according to package dire...   1222269       5   \n",
      "\n",
      "                                                Review         DateSubmitted  \\\n",
      "0    FYI...\\r\\nAt our local grocery, they have read...  2003-07-30T13:18:53Z   \n",
      "1    This is a great recipe! I used fresh rosemary ...  2005-02-07T00:47:23Z   \n",
      "2    Kudos!  Very tasty.  Mi esposo (the picky one ...  2003-03-02T14:50:00Z   \n",
      "3    This recipe comes from Marsha Adams, who hoste...  2001-07-25T10:28:08Z   \n",
      "4    Another nice mashed potato dish. I liked the c...  2002-04-20T19:30:23Z   \n",
      "..                                                 ...                   ...   \n",
      "805  I received this recipe at a WW meeting, and I ...  2008-03-15T02:51:35Z   \n",
      "806  I used the same rum as Bev.  The more I stirre...  2008-01-20T00:34:21Z   \n",
      "807  great minds must work in the same way!! lol! t...  2007-06-20T08:16:07Z   \n",
      "808  Your private recipe is public!  The recipe rea...  2012-02-17T17:12:19Z   \n",
      "809  Easy! super easy and satisfying supper. Loved it!  2011-05-31T10:39:34Z   \n",
      "\n",
      "             DateModified  \n",
      "0    2003-07-30T13:18:53Z  \n",
      "1    2005-02-07T00:47:23Z  \n",
      "2    2003-03-02T14:50:00Z  \n",
      "3    2001-07-25T10:28:08Z  \n",
      "4    2002-04-20T19:30:23Z  \n",
      "..                    ...  \n",
      "805  2008-03-15T02:51:35Z  \n",
      "806  2008-01-20T00:34:21Z  \n",
      "807  2007-06-20T08:16:07Z  \n",
      "808  2012-02-17T17:12:19Z  \n",
      "809  2011-05-31T10:39:34Z  \n",
      "\n",
      "[810 rows x 31 columns]\n"
     ]
    }
   ],
   "source": [
    "combined_dataset = pd.merge(Recipes, Reviews, on=['RecipeId', 'AuthorId', 'AuthorName'])\n",
    "print(combined_dataset)"
   ]
  },
  {
   "cell_type": "markdown",
   "id": "b38fb888",
   "metadata": {},
   "source": [
    "printing the first 5 datasets from combined datasets"
   ]
  },
  {
   "cell_type": "code",
   "execution_count": 60,
   "id": "18402a77",
   "metadata": {},
   "outputs": [
    {
     "data": {
      "text/html": [
       "<div>\n",
       "<style scoped>\n",
       "    .dataframe tbody tr th:only-of-type {\n",
       "        vertical-align: middle;\n",
       "    }\n",
       "\n",
       "    .dataframe tbody tr th {\n",
       "        vertical-align: top;\n",
       "    }\n",
       "\n",
       "    .dataframe thead th {\n",
       "        text-align: right;\n",
       "    }\n",
       "</style>\n",
       "<table border=\"1\" class=\"dataframe\">\n",
       "  <thead>\n",
       "    <tr style=\"text-align: right;\">\n",
       "      <th></th>\n",
       "      <th>RecipeId</th>\n",
       "      <th>Name</th>\n",
       "      <th>AuthorId</th>\n",
       "      <th>AuthorName</th>\n",
       "      <th>CookTime</th>\n",
       "      <th>PrepTime</th>\n",
       "      <th>TotalTime</th>\n",
       "      <th>DatePublished</th>\n",
       "      <th>Description</th>\n",
       "      <th>Images</th>\n",
       "      <th>...</th>\n",
       "      <th>CarbohydrateContent</th>\n",
       "      <th>FiberContent</th>\n",
       "      <th>SugarContent</th>\n",
       "      <th>ProteinContent</th>\n",
       "      <th>RecipeInstructions</th>\n",
       "      <th>ReviewId</th>\n",
       "      <th>Rating</th>\n",
       "      <th>Review</th>\n",
       "      <th>DateSubmitted</th>\n",
       "      <th>DateModified</th>\n",
       "    </tr>\n",
       "  </thead>\n",
       "  <tbody>\n",
       "    <tr>\n",
       "      <th>0</th>\n",
       "      <td>4627</td>\n",
       "      <td>Chicken Tortilla Soup II</td>\n",
       "      <td>1938</td>\n",
       "      <td>Eddie Shipman</td>\n",
       "      <td>PT50M</td>\n",
       "      <td>PT20M</td>\n",
       "      <td>PT1H10M</td>\n",
       "      <td>1999-11-17T09:01:00Z</td>\n",
       "      <td>I'm getting tired of seeing the so-called tort...</td>\n",
       "      <td>c(\"https://img.sndimg.com/food/image/upload/w_...</td>\n",
       "      <td>...</td>\n",
       "      <td>12.8</td>\n",
       "      <td>2.6</td>\n",
       "      <td>4.8</td>\n",
       "      <td>26.8</td>\n",
       "      <td>c(\"Saute carrots, onions, celery in corn oil, ...</td>\n",
       "      <td>33942</td>\n",
       "      <td>0</td>\n",
       "      <td>FYI...\\r\\nAt our local grocery, they have read...</td>\n",
       "      <td>2003-07-30T13:18:53Z</td>\n",
       "      <td>2003-07-30T13:18:53Z</td>\n",
       "    </tr>\n",
       "    <tr>\n",
       "      <th>1</th>\n",
       "      <td>4873</td>\n",
       "      <td>Roast Leg of Lamb</td>\n",
       "      <td>71324</td>\n",
       "      <td>-Sylvie-</td>\n",
       "      <td>PT2H</td>\n",
       "      <td>PT10M</td>\n",
       "      <td>PT2H10M</td>\n",
       "      <td>1999-11-24T06:06:00Z</td>\n",
       "      <td>A simple recipe with sensational flavor! I've ...</td>\n",
       "      <td>c(\"https://img.sndimg.com/food/image/upload/w_...</td>\n",
       "      <td>...</td>\n",
       "      <td>2.4</td>\n",
       "      <td>0.4</td>\n",
       "      <td>0.5</td>\n",
       "      <td>0.2</td>\n",
       "      <td>c(\"Remove lamb from refrigerator 1 hour before...</td>\n",
       "      <td>151935</td>\n",
       "      <td>0</td>\n",
       "      <td>This is a great recipe! I used fresh rosemary ...</td>\n",
       "      <td>2005-02-07T00:47:23Z</td>\n",
       "      <td>2005-02-07T00:47:23Z</td>\n",
       "    </tr>\n",
       "    <tr>\n",
       "      <th>2</th>\n",
       "      <td>4981</td>\n",
       "      <td>Crock Pot Chicken &amp;aacute; La Antoinette</td>\n",
       "      <td>64642</td>\n",
       "      <td>Molly53</td>\n",
       "      <td>PT2H</td>\n",
       "      <td>PT10M</td>\n",
       "      <td>PT2H10M</td>\n",
       "      <td>1999-11-27T07:25:00Z</td>\n",
       "      <td>I use the slow cooker during the summer for th...</td>\n",
       "      <td>c(\"https://img.sndimg.com/food/image/upload/w_...</td>\n",
       "      <td>...</td>\n",
       "      <td>12.2</td>\n",
       "      <td>0.7</td>\n",
       "      <td>1.7</td>\n",
       "      <td>32.2</td>\n",
       "      <td>c(\"Saute onions and mushrooms in olive oil.\", ...</td>\n",
       "      <td>43381</td>\n",
       "      <td>0</td>\n",
       "      <td>Kudos!  Very tasty.  Mi esposo (the picky one ...</td>\n",
       "      <td>2003-03-02T14:50:00Z</td>\n",
       "      <td>2003-03-02T14:50:00Z</td>\n",
       "    </tr>\n",
       "    <tr>\n",
       "      <th>3</th>\n",
       "      <td>5174</td>\n",
       "      <td>Amish Dip</td>\n",
       "      <td>1634</td>\n",
       "      <td>Bill Hilbrich</td>\n",
       "      <td>NA</td>\n",
       "      <td>PT15M</td>\n",
       "      <td>PT15M</td>\n",
       "      <td>1999-12-11T18:18:00Z</td>\n",
       "      <td>This recipe comes from Marsha Adams, who hoste...</td>\n",
       "      <td>\"https://img.sndimg.com/food/image/upload/w_55...</td>\n",
       "      <td>...</td>\n",
       "      <td>7.9</td>\n",
       "      <td>2.0</td>\n",
       "      <td>3.2</td>\n",
       "      <td>22.0</td>\n",
       "      <td>c(\"Mix all the ingredients, adding more or les...</td>\n",
       "      <td>1784</td>\n",
       "      <td>0</td>\n",
       "      <td>This recipe comes from Marsha Adams, who hoste...</td>\n",
       "      <td>2001-07-25T10:28:08Z</td>\n",
       "      <td>2001-07-25T10:28:08Z</td>\n",
       "    </tr>\n",
       "    <tr>\n",
       "      <th>4</th>\n",
       "      <td>6454</td>\n",
       "      <td>Mashed Potatoes with Horseradish Cream</td>\n",
       "      <td>29196</td>\n",
       "      <td>JustJanS</td>\n",
       "      <td>NA</td>\n",
       "      <td>PT0S</td>\n",
       "      <td>PT0S</td>\n",
       "      <td>2000-03-06T16:08:00Z</td>\n",
       "      <td>Make and share this  Mashed Potatoes with Hors...</td>\n",
       "      <td>c(\"https://img.sndimg.com/food/image/upload/w_...</td>\n",
       "      <td>...</td>\n",
       "      <td>47.8</td>\n",
       "      <td>6.0</td>\n",
       "      <td>3.4</td>\n",
       "      <td>6.1</td>\n",
       "      <td>c(\"Peel and quarter potatoes.\", \"Cook in boili...</td>\n",
       "      <td>12484</td>\n",
       "      <td>0</td>\n",
       "      <td>Another nice mashed potato dish. I liked the c...</td>\n",
       "      <td>2002-04-20T19:30:23Z</td>\n",
       "      <td>2002-04-20T19:30:23Z</td>\n",
       "    </tr>\n",
       "  </tbody>\n",
       "</table>\n",
       "<p>5 rows × 31 columns</p>\n",
       "</div>"
      ],
      "text/plain": [
       "   RecipeId                                      Name  AuthorId  \\\n",
       "0      4627                  Chicken Tortilla Soup II      1938   \n",
       "1      4873                         Roast Leg of Lamb     71324   \n",
       "2      4981  Crock Pot Chicken &aacute; La Antoinette     64642   \n",
       "3      5174                                 Amish Dip      1634   \n",
       "4      6454    Mashed Potatoes with Horseradish Cream     29196   \n",
       "\n",
       "      AuthorName CookTime PrepTime TotalTime         DatePublished  \\\n",
       "0  Eddie Shipman    PT50M    PT20M   PT1H10M  1999-11-17T09:01:00Z   \n",
       "1       -Sylvie-     PT2H    PT10M   PT2H10M  1999-11-24T06:06:00Z   \n",
       "2        Molly53     PT2H    PT10M   PT2H10M  1999-11-27T07:25:00Z   \n",
       "3  Bill Hilbrich       NA    PT15M     PT15M  1999-12-11T18:18:00Z   \n",
       "4       JustJanS       NA     PT0S      PT0S  2000-03-06T16:08:00Z   \n",
       "\n",
       "                                         Description  \\\n",
       "0  I'm getting tired of seeing the so-called tort...   \n",
       "1  A simple recipe with sensational flavor! I've ...   \n",
       "2  I use the slow cooker during the summer for th...   \n",
       "3  This recipe comes from Marsha Adams, who hoste...   \n",
       "4  Make and share this  Mashed Potatoes with Hors...   \n",
       "\n",
       "                                              Images  ... CarbohydrateContent  \\\n",
       "0  c(\"https://img.sndimg.com/food/image/upload/w_...  ...                12.8   \n",
       "1  c(\"https://img.sndimg.com/food/image/upload/w_...  ...                 2.4   \n",
       "2  c(\"https://img.sndimg.com/food/image/upload/w_...  ...                12.2   \n",
       "3  \"https://img.sndimg.com/food/image/upload/w_55...  ...                 7.9   \n",
       "4  c(\"https://img.sndimg.com/food/image/upload/w_...  ...                47.8   \n",
       "\n",
       "  FiberContent SugarContent ProteinContent  \\\n",
       "0          2.6          4.8           26.8   \n",
       "1          0.4          0.5            0.2   \n",
       "2          0.7          1.7           32.2   \n",
       "3          2.0          3.2           22.0   \n",
       "4          6.0          3.4            6.1   \n",
       "\n",
       "                                  RecipeInstructions  ReviewId  Rating  \\\n",
       "0  c(\"Saute carrots, onions, celery in corn oil, ...     33942       0   \n",
       "1  c(\"Remove lamb from refrigerator 1 hour before...    151935       0   \n",
       "2  c(\"Saute onions and mushrooms in olive oil.\", ...     43381       0   \n",
       "3  c(\"Mix all the ingredients, adding more or les...      1784       0   \n",
       "4  c(\"Peel and quarter potatoes.\", \"Cook in boili...     12484       0   \n",
       "\n",
       "                                              Review         DateSubmitted  \\\n",
       "0  FYI...\\r\\nAt our local grocery, they have read...  2003-07-30T13:18:53Z   \n",
       "1  This is a great recipe! I used fresh rosemary ...  2005-02-07T00:47:23Z   \n",
       "2  Kudos!  Very tasty.  Mi esposo (the picky one ...  2003-03-02T14:50:00Z   \n",
       "3  This recipe comes from Marsha Adams, who hoste...  2001-07-25T10:28:08Z   \n",
       "4  Another nice mashed potato dish. I liked the c...  2002-04-20T19:30:23Z   \n",
       "\n",
       "           DateModified  \n",
       "0  2003-07-30T13:18:53Z  \n",
       "1  2005-02-07T00:47:23Z  \n",
       "2  2003-03-02T14:50:00Z  \n",
       "3  2001-07-25T10:28:08Z  \n",
       "4  2002-04-20T19:30:23Z  \n",
       "\n",
       "[5 rows x 31 columns]"
      ]
     },
     "execution_count": 60,
     "metadata": {},
     "output_type": "execute_result"
    }
   ],
   "source": [
    "combined_dataset.head()"
   ]
  },
  {
   "cell_type": "markdown",
   "id": "77eb7a4c",
   "metadata": {},
   "source": [
    "determining number of rows and columns"
   ]
  },
  {
   "cell_type": "code",
   "execution_count": 61,
   "id": "cfa391fa",
   "metadata": {},
   "outputs": [
    {
     "data": {
      "text/plain": [
       "(810, 31)"
      ]
     },
     "execution_count": 61,
     "metadata": {},
     "output_type": "execute_result"
    }
   ],
   "source": [
    "combined_dataset.shape"
   ]
  },
  {
   "cell_type": "markdown",
   "id": "7b81ebb9",
   "metadata": {},
   "source": [
    "determining the datatypes for overall dataset"
   ]
  },
  {
   "cell_type": "code",
   "execution_count": 62,
   "id": "865077ba",
   "metadata": {},
   "outputs": [
    {
     "name": "stdout",
     "output_type": "stream",
     "text": [
      "<class 'pandas.core.frame.DataFrame'>\n",
      "Int64Index: 810 entries, 0 to 809\n",
      "Data columns (total 31 columns):\n",
      " #   Column                      Non-Null Count  Dtype  \n",
      "---  ------                      --------------  -----  \n",
      " 0   RecipeId                    810 non-null    int64  \n",
      " 1   Name                        810 non-null    object \n",
      " 2   AuthorId                    810 non-null    int64  \n",
      " 3   AuthorName                  810 non-null    object \n",
      " 4   CookTime                    810 non-null    object \n",
      " 5   PrepTime                    810 non-null    object \n",
      " 6   TotalTime                   810 non-null    object \n",
      " 7   DatePublished               810 non-null    object \n",
      " 8   Description                 810 non-null    object \n",
      " 9   Images                      810 non-null    object \n",
      " 10  RecipeCategory              810 non-null    object \n",
      " 11  Keywords                    810 non-null    object \n",
      " 12  RecipeIngredientQuantities  810 non-null    object \n",
      " 13  RecipeIngredientParts       810 non-null    object \n",
      " 14  AggregatedRating            810 non-null    float64\n",
      " 15  ReviewCount                 810 non-null    float64\n",
      " 16  Calories                    810 non-null    float64\n",
      " 17  FatContent                  810 non-null    float64\n",
      " 18  SaturatedFatContent         810 non-null    float64\n",
      " 19  CholesterolContent          810 non-null    float64\n",
      " 20  SodiumContent               810 non-null    float64\n",
      " 21  CarbohydrateContent         810 non-null    float64\n",
      " 22  FiberContent                810 non-null    float64\n",
      " 23  SugarContent                810 non-null    float64\n",
      " 24  ProteinContent              810 non-null    float64\n",
      " 25  RecipeInstructions          810 non-null    object \n",
      " 26  ReviewId                    810 non-null    int64  \n",
      " 27  Rating                      810 non-null    int64  \n",
      " 28  Review                      810 non-null    object \n",
      " 29  DateSubmitted               810 non-null    object \n",
      " 30  DateModified                810 non-null    object \n",
      "dtypes: float64(11), int64(4), object(16)\n",
      "memory usage: 202.5+ KB\n"
     ]
    }
   ],
   "source": [
    "combined_dataset.info()"
   ]
  },
  {
   "cell_type": "markdown",
   "id": "ae50eba0",
   "metadata": {},
   "source": [
    "determing all column names "
   ]
  },
  {
   "cell_type": "code",
   "execution_count": 63,
   "id": "005bc991",
   "metadata": {},
   "outputs": [
    {
     "data": {
      "text/plain": [
       "Index(['RecipeId', 'Name', 'AuthorId', 'AuthorName', 'CookTime', 'PrepTime',\n",
       "       'TotalTime', 'DatePublished', 'Description', 'Images', 'RecipeCategory',\n",
       "       'Keywords', 'RecipeIngredientQuantities', 'RecipeIngredientParts',\n",
       "       'AggregatedRating', 'ReviewCount', 'Calories', 'FatContent',\n",
       "       'SaturatedFatContent', 'CholesterolContent', 'SodiumContent',\n",
       "       'CarbohydrateContent', 'FiberContent', 'SugarContent', 'ProteinContent',\n",
       "       'RecipeInstructions', 'ReviewId', 'Rating', 'Review', 'DateSubmitted',\n",
       "       'DateModified'],\n",
       "      dtype='object')"
      ]
     },
     "execution_count": 63,
     "metadata": {},
     "output_type": "execute_result"
    }
   ],
   "source": [
    "combined_dataset.columns"
   ]
  },
  {
   "cell_type": "markdown",
   "id": "366550eb",
   "metadata": {},
   "source": [
    "Checking for missing values in combined dataset"
   ]
  },
  {
   "cell_type": "code",
   "execution_count": 64,
   "id": "35b19dac",
   "metadata": {
    "scrolled": true
   },
   "outputs": [
    {
     "data": {
      "text/html": [
       "<div>\n",
       "<style scoped>\n",
       "    .dataframe tbody tr th:only-of-type {\n",
       "        vertical-align: middle;\n",
       "    }\n",
       "\n",
       "    .dataframe tbody tr th {\n",
       "        vertical-align: top;\n",
       "    }\n",
       "\n",
       "    .dataframe thead th {\n",
       "        text-align: right;\n",
       "    }\n",
       "</style>\n",
       "<table border=\"1\" class=\"dataframe\">\n",
       "  <thead>\n",
       "    <tr style=\"text-align: right;\">\n",
       "      <th></th>\n",
       "      <th>RecipeId</th>\n",
       "      <th>Name</th>\n",
       "      <th>AuthorId</th>\n",
       "      <th>AuthorName</th>\n",
       "      <th>CookTime</th>\n",
       "      <th>PrepTime</th>\n",
       "      <th>TotalTime</th>\n",
       "      <th>DatePublished</th>\n",
       "      <th>Description</th>\n",
       "      <th>Images</th>\n",
       "      <th>...</th>\n",
       "      <th>CarbohydrateContent</th>\n",
       "      <th>FiberContent</th>\n",
       "      <th>SugarContent</th>\n",
       "      <th>ProteinContent</th>\n",
       "      <th>RecipeInstructions</th>\n",
       "      <th>ReviewId</th>\n",
       "      <th>Rating</th>\n",
       "      <th>Review</th>\n",
       "      <th>DateSubmitted</th>\n",
       "      <th>DateModified</th>\n",
       "    </tr>\n",
       "  </thead>\n",
       "  <tbody>\n",
       "    <tr>\n",
       "      <th>0</th>\n",
       "      <td>False</td>\n",
       "      <td>False</td>\n",
       "      <td>False</td>\n",
       "      <td>False</td>\n",
       "      <td>False</td>\n",
       "      <td>False</td>\n",
       "      <td>False</td>\n",
       "      <td>False</td>\n",
       "      <td>False</td>\n",
       "      <td>False</td>\n",
       "      <td>...</td>\n",
       "      <td>False</td>\n",
       "      <td>False</td>\n",
       "      <td>False</td>\n",
       "      <td>False</td>\n",
       "      <td>False</td>\n",
       "      <td>False</td>\n",
       "      <td>False</td>\n",
       "      <td>False</td>\n",
       "      <td>False</td>\n",
       "      <td>False</td>\n",
       "    </tr>\n",
       "    <tr>\n",
       "      <th>1</th>\n",
       "      <td>False</td>\n",
       "      <td>False</td>\n",
       "      <td>False</td>\n",
       "      <td>False</td>\n",
       "      <td>False</td>\n",
       "      <td>False</td>\n",
       "      <td>False</td>\n",
       "      <td>False</td>\n",
       "      <td>False</td>\n",
       "      <td>False</td>\n",
       "      <td>...</td>\n",
       "      <td>False</td>\n",
       "      <td>False</td>\n",
       "      <td>False</td>\n",
       "      <td>False</td>\n",
       "      <td>False</td>\n",
       "      <td>False</td>\n",
       "      <td>False</td>\n",
       "      <td>False</td>\n",
       "      <td>False</td>\n",
       "      <td>False</td>\n",
       "    </tr>\n",
       "    <tr>\n",
       "      <th>2</th>\n",
       "      <td>False</td>\n",
       "      <td>False</td>\n",
       "      <td>False</td>\n",
       "      <td>False</td>\n",
       "      <td>False</td>\n",
       "      <td>False</td>\n",
       "      <td>False</td>\n",
       "      <td>False</td>\n",
       "      <td>False</td>\n",
       "      <td>False</td>\n",
       "      <td>...</td>\n",
       "      <td>False</td>\n",
       "      <td>False</td>\n",
       "      <td>False</td>\n",
       "      <td>False</td>\n",
       "      <td>False</td>\n",
       "      <td>False</td>\n",
       "      <td>False</td>\n",
       "      <td>False</td>\n",
       "      <td>False</td>\n",
       "      <td>False</td>\n",
       "    </tr>\n",
       "    <tr>\n",
       "      <th>3</th>\n",
       "      <td>False</td>\n",
       "      <td>False</td>\n",
       "      <td>False</td>\n",
       "      <td>False</td>\n",
       "      <td>False</td>\n",
       "      <td>False</td>\n",
       "      <td>False</td>\n",
       "      <td>False</td>\n",
       "      <td>False</td>\n",
       "      <td>False</td>\n",
       "      <td>...</td>\n",
       "      <td>False</td>\n",
       "      <td>False</td>\n",
       "      <td>False</td>\n",
       "      <td>False</td>\n",
       "      <td>False</td>\n",
       "      <td>False</td>\n",
       "      <td>False</td>\n",
       "      <td>False</td>\n",
       "      <td>False</td>\n",
       "      <td>False</td>\n",
       "    </tr>\n",
       "    <tr>\n",
       "      <th>4</th>\n",
       "      <td>False</td>\n",
       "      <td>False</td>\n",
       "      <td>False</td>\n",
       "      <td>False</td>\n",
       "      <td>False</td>\n",
       "      <td>False</td>\n",
       "      <td>False</td>\n",
       "      <td>False</td>\n",
       "      <td>False</td>\n",
       "      <td>False</td>\n",
       "      <td>...</td>\n",
       "      <td>False</td>\n",
       "      <td>False</td>\n",
       "      <td>False</td>\n",
       "      <td>False</td>\n",
       "      <td>False</td>\n",
       "      <td>False</td>\n",
       "      <td>False</td>\n",
       "      <td>False</td>\n",
       "      <td>False</td>\n",
       "      <td>False</td>\n",
       "    </tr>\n",
       "    <tr>\n",
       "      <th>...</th>\n",
       "      <td>...</td>\n",
       "      <td>...</td>\n",
       "      <td>...</td>\n",
       "      <td>...</td>\n",
       "      <td>...</td>\n",
       "      <td>...</td>\n",
       "      <td>...</td>\n",
       "      <td>...</td>\n",
       "      <td>...</td>\n",
       "      <td>...</td>\n",
       "      <td>...</td>\n",
       "      <td>...</td>\n",
       "      <td>...</td>\n",
       "      <td>...</td>\n",
       "      <td>...</td>\n",
       "      <td>...</td>\n",
       "      <td>...</td>\n",
       "      <td>...</td>\n",
       "      <td>...</td>\n",
       "      <td>...</td>\n",
       "      <td>...</td>\n",
       "    </tr>\n",
       "    <tr>\n",
       "      <th>805</th>\n",
       "      <td>False</td>\n",
       "      <td>False</td>\n",
       "      <td>False</td>\n",
       "      <td>False</td>\n",
       "      <td>False</td>\n",
       "      <td>False</td>\n",
       "      <td>False</td>\n",
       "      <td>False</td>\n",
       "      <td>False</td>\n",
       "      <td>False</td>\n",
       "      <td>...</td>\n",
       "      <td>False</td>\n",
       "      <td>False</td>\n",
       "      <td>False</td>\n",
       "      <td>False</td>\n",
       "      <td>False</td>\n",
       "      <td>False</td>\n",
       "      <td>False</td>\n",
       "      <td>False</td>\n",
       "      <td>False</td>\n",
       "      <td>False</td>\n",
       "    </tr>\n",
       "    <tr>\n",
       "      <th>806</th>\n",
       "      <td>False</td>\n",
       "      <td>False</td>\n",
       "      <td>False</td>\n",
       "      <td>False</td>\n",
       "      <td>False</td>\n",
       "      <td>False</td>\n",
       "      <td>False</td>\n",
       "      <td>False</td>\n",
       "      <td>False</td>\n",
       "      <td>False</td>\n",
       "      <td>...</td>\n",
       "      <td>False</td>\n",
       "      <td>False</td>\n",
       "      <td>False</td>\n",
       "      <td>False</td>\n",
       "      <td>False</td>\n",
       "      <td>False</td>\n",
       "      <td>False</td>\n",
       "      <td>False</td>\n",
       "      <td>False</td>\n",
       "      <td>False</td>\n",
       "    </tr>\n",
       "    <tr>\n",
       "      <th>807</th>\n",
       "      <td>False</td>\n",
       "      <td>False</td>\n",
       "      <td>False</td>\n",
       "      <td>False</td>\n",
       "      <td>False</td>\n",
       "      <td>False</td>\n",
       "      <td>False</td>\n",
       "      <td>False</td>\n",
       "      <td>False</td>\n",
       "      <td>False</td>\n",
       "      <td>...</td>\n",
       "      <td>False</td>\n",
       "      <td>False</td>\n",
       "      <td>False</td>\n",
       "      <td>False</td>\n",
       "      <td>False</td>\n",
       "      <td>False</td>\n",
       "      <td>False</td>\n",
       "      <td>False</td>\n",
       "      <td>False</td>\n",
       "      <td>False</td>\n",
       "    </tr>\n",
       "    <tr>\n",
       "      <th>808</th>\n",
       "      <td>False</td>\n",
       "      <td>False</td>\n",
       "      <td>False</td>\n",
       "      <td>False</td>\n",
       "      <td>False</td>\n",
       "      <td>False</td>\n",
       "      <td>False</td>\n",
       "      <td>False</td>\n",
       "      <td>False</td>\n",
       "      <td>False</td>\n",
       "      <td>...</td>\n",
       "      <td>False</td>\n",
       "      <td>False</td>\n",
       "      <td>False</td>\n",
       "      <td>False</td>\n",
       "      <td>False</td>\n",
       "      <td>False</td>\n",
       "      <td>False</td>\n",
       "      <td>False</td>\n",
       "      <td>False</td>\n",
       "      <td>False</td>\n",
       "    </tr>\n",
       "    <tr>\n",
       "      <th>809</th>\n",
       "      <td>False</td>\n",
       "      <td>False</td>\n",
       "      <td>False</td>\n",
       "      <td>False</td>\n",
       "      <td>False</td>\n",
       "      <td>False</td>\n",
       "      <td>False</td>\n",
       "      <td>False</td>\n",
       "      <td>False</td>\n",
       "      <td>False</td>\n",
       "      <td>...</td>\n",
       "      <td>False</td>\n",
       "      <td>False</td>\n",
       "      <td>False</td>\n",
       "      <td>False</td>\n",
       "      <td>False</td>\n",
       "      <td>False</td>\n",
       "      <td>False</td>\n",
       "      <td>False</td>\n",
       "      <td>False</td>\n",
       "      <td>False</td>\n",
       "    </tr>\n",
       "  </tbody>\n",
       "</table>\n",
       "<p>810 rows × 31 columns</p>\n",
       "</div>"
      ],
      "text/plain": [
       "     RecipeId   Name  AuthorId  AuthorName  CookTime  PrepTime  TotalTime  \\\n",
       "0       False  False     False       False     False     False      False   \n",
       "1       False  False     False       False     False     False      False   \n",
       "2       False  False     False       False     False     False      False   \n",
       "3       False  False     False       False     False     False      False   \n",
       "4       False  False     False       False     False     False      False   \n",
       "..        ...    ...       ...         ...       ...       ...        ...   \n",
       "805     False  False     False       False     False     False      False   \n",
       "806     False  False     False       False     False     False      False   \n",
       "807     False  False     False       False     False     False      False   \n",
       "808     False  False     False       False     False     False      False   \n",
       "809     False  False     False       False     False     False      False   \n",
       "\n",
       "     DatePublished  Description  Images  ...  CarbohydrateContent  \\\n",
       "0            False        False   False  ...                False   \n",
       "1            False        False   False  ...                False   \n",
       "2            False        False   False  ...                False   \n",
       "3            False        False   False  ...                False   \n",
       "4            False        False   False  ...                False   \n",
       "..             ...          ...     ...  ...                  ...   \n",
       "805          False        False   False  ...                False   \n",
       "806          False        False   False  ...                False   \n",
       "807          False        False   False  ...                False   \n",
       "808          False        False   False  ...                False   \n",
       "809          False        False   False  ...                False   \n",
       "\n",
       "     FiberContent  SugarContent  ProteinContent  RecipeInstructions  ReviewId  \\\n",
       "0           False         False           False               False     False   \n",
       "1           False         False           False               False     False   \n",
       "2           False         False           False               False     False   \n",
       "3           False         False           False               False     False   \n",
       "4           False         False           False               False     False   \n",
       "..            ...           ...             ...                 ...       ...   \n",
       "805         False         False           False               False     False   \n",
       "806         False         False           False               False     False   \n",
       "807         False         False           False               False     False   \n",
       "808         False         False           False               False     False   \n",
       "809         False         False           False               False     False   \n",
       "\n",
       "     Rating  Review  DateSubmitted  DateModified  \n",
       "0     False   False          False         False  \n",
       "1     False   False          False         False  \n",
       "2     False   False          False         False  \n",
       "3     False   False          False         False  \n",
       "4     False   False          False         False  \n",
       "..      ...     ...            ...           ...  \n",
       "805   False   False          False         False  \n",
       "806   False   False          False         False  \n",
       "807   False   False          False         False  \n",
       "808   False   False          False         False  \n",
       "809   False   False          False         False  \n",
       "\n",
       "[810 rows x 31 columns]"
      ]
     },
     "execution_count": 64,
     "metadata": {},
     "output_type": "execute_result"
    }
   ],
   "source": [
    "combined_dataset.isna()"
   ]
  },
  {
   "cell_type": "markdown",
   "id": "9769a742",
   "metadata": {},
   "source": [
    "We can observe that there are no missing values as we already sorted the missing values individually in each dataset"
   ]
  },
  {
   "cell_type": "code",
   "execution_count": 65,
   "id": "ed9ba2e4",
   "metadata": {},
   "outputs": [
    {
     "data": {
      "text/plain": [
       "RecipeId                      0\n",
       "Name                          0\n",
       "AuthorId                      0\n",
       "AuthorName                    0\n",
       "CookTime                      0\n",
       "PrepTime                      0\n",
       "TotalTime                     0\n",
       "DatePublished                 0\n",
       "Description                   0\n",
       "Images                        0\n",
       "RecipeCategory                0\n",
       "Keywords                      0\n",
       "RecipeIngredientQuantities    0\n",
       "RecipeIngredientParts         0\n",
       "AggregatedRating              0\n",
       "ReviewCount                   0\n",
       "Calories                      0\n",
       "FatContent                    0\n",
       "SaturatedFatContent           0\n",
       "CholesterolContent            0\n",
       "SodiumContent                 0\n",
       "CarbohydrateContent           0\n",
       "FiberContent                  0\n",
       "SugarContent                  0\n",
       "ProteinContent                0\n",
       "RecipeInstructions            0\n",
       "ReviewId                      0\n",
       "Rating                        0\n",
       "Review                        0\n",
       "DateSubmitted                 0\n",
       "DateModified                  0\n",
       "dtype: int64"
      ]
     },
     "execution_count": 65,
     "metadata": {},
     "output_type": "execute_result"
    }
   ],
   "source": [
    "combined_dataset.isna().sum()"
   ]
  },
  {
   "cell_type": "markdown",
   "id": "54e14032",
   "metadata": {},
   "source": [
    "# Visualisations for the datasets"
   ]
  },
  {
   "cell_type": "markdown",
   "id": "f7b8884d",
   "metadata": {},
   "source": [
    "User Engagement Analysis"
   ]
  },
  {
   "cell_type": "markdown",
   "id": "77a5dcf9",
   "metadata": {},
   "source": [
    "This analysis can be used to identify user engagement metrics such as ratings ,number of reviews for each RecipeId."
   ]
  },
  {
   "cell_type": "markdown",
   "id": "6e92e4e1",
   "metadata": {},
   "source": [
    "#Plotting histogram for Distribution of Ratings"
   ]
  },
  {
   "cell_type": "code",
   "execution_count": 66,
   "id": "d714e74c",
   "metadata": {},
   "outputs": [
    {
     "data": {
      "image/png": "[encoded data removed]",
      "text/plain": [
       "<Figure size 640x480 with 1 Axes>"
      ]
     },
     "metadata": {},
     "output_type": "display_data"
    }
   ],
   "source": [
    "import matplotlib.pyplot as plt\n",
    "ratings = combined_dataset.groupby('RecipeId')['AggregatedRating'].mean()\n",
    "# Visualizing user engagement metrics\n",
    "plt.hist(ratings)\n",
    "plt.title('Distribution of Ratings')\n",
    "plt.xlabel('Rating')\n",
    "plt.ylabel('Frequency')\n",
    "plt.show()"
   ]
  },
  {
   "cell_type": "markdown",
   "id": "b64e7ec3",
   "metadata": {},
   "source": [
    "The above graph shows the distribution of ratings by the users in the dataset and also displays the highest bar in the histogram that indicates most common rating by the users."
   ]
  },
  {
   "cell_type": "markdown",
   "id": "b0bbf75e",
   "metadata": {},
   "source": [
    "Plotting line graph for ratings given by users"
   ]
  },
  {
   "cell_type": "code",
   "execution_count": 67,
   "id": "2a479916",
   "metadata": {},
   "outputs": [
    {
     "data": {
      "image/png": "[encoded data removed]",
      "text/plain": [
       "<Figure size 640x480 with 1 Axes>"
      ]
     },
     "metadata": {},
     "output_type": "display_data"
    }
   ],
   "source": [
    "number_of_reviews = combined_dataset.groupby('RecipeId')['Rating'].count()\n",
    "plt.plot(number_of_reviews)\n",
    "plt.title('Ratings by users for each RecipeId')\n",
    "plt.xlabel('RecipeId')\n",
    "plt.ylabel('Rating')\n",
    "plt.show()\n"
   ]
  },
  {
   "cell_type": "markdown",
   "id": "4825e035",
   "metadata": {},
   "source": [
    "From the above graph shows that most of recipe ids are rated 1 by the users."
   ]
  },
  {
   "cell_type": "markdown",
   "id": "f9c79187",
   "metadata": {},
   "source": [
    "Nutrional Analysis"
   ]
  },
  {
   "cell_type": "markdown",
   "id": "5f1cb7d8",
   "metadata": {},
   "source": [
    "This analysis can be used to visualize the nutritional value present in different recipes."
   ]
  },
  {
   "cell_type": "code",
   "execution_count": 68,
   "id": "622f21fa",
   "metadata": {},
   "outputs": [
    {
     "data": {
      "image/png": "[encoded data removed]",
      "text/plain": [
       "<Figure size 1400x600 with 1 Axes>"
      ]
     },
     "metadata": {},
     "output_type": "display_data"
    }
   ],
   "source": [
    "import seaborn as sns\n",
    "import matplotlib.pyplot as plt\n",
    "\n",
    "# Selecting the columns with nutritional data\n",
    "nutrients = Recipes[['Calories','SaturatedFatContent','CholesterolContent','SodiumContent','CarbohydrateContent','FiberContent','SugarContent','ProteinContent']]\n",
    "\n",
    "# Calculating the mean values for each nutrient\n",
    "nutrient_means = nutrients.mean()\n",
    "\n",
    "# Creating a bar chart of the mean nutritional values\n",
    "sns.set_style('darkgrid')\n",
    "plt.figure(figsize=(14, 6))\n",
    "sns.barplot(x=nutrient_means.index, y=nutrient_means.values)\n",
    "\n",
    "# Setting the axis labels and title\n",
    "plt.xlabel('Nutrient')\n",
    "plt.ylabel('Mean Nutrient Value')\n",
    "plt.title('Mean Nutritional Value of Recipes')\n",
    "\n",
    "# Showing the plot\n",
    "plt.show()\n"
   ]
  },
  {
   "cell_type": "markdown",
   "id": "9fdda580",
   "metadata": {},
   "source": [
    "From the chart, we can observe that the mean values for calories and carbohydrate content are the highest among all nutrients, while fiber content has the lowest mean value. This suggests that the recipes in the dataset are generally high in calories and carbohydrates but low in fiber. We can also observe that there are some nutrients that have a relatively small difference in mean values, such as saturated fat content and cholesterol content."
   ]
  },
  {
   "cell_type": "markdown",
   "id": "17e1753e",
   "metadata": {},
   "source": [
    "Ingredient Frequency Analysis"
   ]
  },
  {
   "cell_type": "markdown",
   "id": "6f05f1ca",
   "metadata": {},
   "source": [
    "This analysis can be used to identify the ingredients that are used frequently in recipes"
   ]
  },
  {
   "cell_type": "code",
   "execution_count": 69,
   "id": "70e52ebf",
   "metadata": {},
   "outputs": [
    {
     "data": {
      "image/png": "[encoded data removed]",
      "text/plain": [
       "<Figure size 640x480 with 1 Axes>"
      ]
     },
     "metadata": {},
     "output_type": "display_data"
    }
   ],
   "source": [
    "# Creating a list of all the ingredients\n",
    "all_ingredients = []\n",
    "for ingredients in combined_dataset['RecipeIngredientParts']:\n",
    "    all_ingredients += ingredients.split(',')\n",
    "\n",
    "# Counting the frequency of each ingredient\n",
    "ingredient_counts = pd.Series(all_ingredients).value_counts()\n",
    "\n",
    "# Plotting the top 10 most frequently used ingredients\n",
    "top_10_ingredients = ingredient_counts.head(10)\n",
    "plt.bar(top_10_ingredients.index, top_10_ingredients.values)\n",
    "plt.title('Frequency of Top 10 Ingredients')\n",
    "plt.xlabel('Ingredients')\n",
    "plt.ylabel('Frequency')\n",
    "plt.xticks(rotation=90)\n",
    "plt.show()"
   ]
  },
  {
   "cell_type": "markdown",
   "id": "e468f4ef",
   "metadata": {},
   "source": [
    "From the graph we will be able to identify the preferences of the users, such as specific diet requirements,or favorite ingredients."
   ]
  },
  {
   "cell_type": "markdown",
   "id": "58813b17",
   "metadata": {},
   "source": [
    "# Sentiment analysis"
   ]
  },
  {
   "cell_type": "markdown",
   "id": "f55480bf",
   "metadata": {},
   "source": [
    "This analysis can be used to understand the sentiment of customer reviews about different recipes. We use Histograms to visualize the most commonly used words in positive or negative reviews."
   ]
  },
  {
   "cell_type": "code",
   "execution_count": 70,
   "id": "f370c207",
   "metadata": {},
   "outputs": [
    {
     "data": {
      "image/png": "[encoded data removed]",
      "text/plain": [
       "<Figure size 640x480 with 1 Axes>"
      ]
     },
     "metadata": {},
     "output_type": "display_data"
    }
   ],
   "source": [
    "import pandas as pd\n",
    "import matplotlib.pyplot as plt\n",
    "from nltk.sentiment import SentimentIntensityAnalyzer\n",
    "from nltk.corpus import stopwords\n",
    "from collections import Counter\n",
    "\n",
    "# Creating a sentiment analyzer object\n",
    "sid = SentimentIntensityAnalyzer()\n",
    "\n",
    "# Getting the sentiment scores for each review\n",
    "sentiment_scores = combined_dataset['Review'].apply(sid.polarity_scores)\n",
    "\n",
    "# Extracting the compound score for each review\n",
    "compound_scores = [score['compound'] for score in sentiment_scores]\n",
    "\n",
    "# Adding the compound scores to the combined_dataset DataFrame\n",
    "combined_dataset['compound_score'] = compound_scores\n",
    "\n",
    "# Creating a histogram of the compound scores distribution\n",
    "plt.hist(compound_scores, bins=10, range=(-1, 1))\n",
    "plt.title('Distribution of Sentiment Scores')\n",
    "plt.xlabel('Compound Score')\n",
    "plt.ylabel('Frequency')\n",
    "plt.show()\n",
    "\n",
    "# Splitting the combined_dataset into positive and negative reviews based on the compound score\n",
    "positive_reviews = combined_dataset[combined_dataset['compound_score'] >= 0.5]['Review']\n",
    "negative_reviews = combined_dataset[combined_dataset['compound_score'] <= -0.5]['Review']\n",
    "\n",
    "# Creating a list of stop words to remove from the reviews\n",
    "stop_words = stopwords.words('english')\n",
    "\n",
    "# Removing stop words from the positive and negative reviews\n",
    "positive_words = [word for review in positive_reviews for word in review.lower().split() if word not in stop_words]\n",
    "negative_words = [word for review in negative_reviews for word in review.lower().split() if word not in stop_words]\n",
    "\n",
    "# Getting the most common words in the positive and negative reviews\n",
    "num_words = 14\n",
    "positive_word_counts = Counter(positive_words).most_common(num_words)\n",
    "negative_word_counts = Counter(negative_words).most_common(num_words)\n",
    "\n"
   ]
  },
  {
   "cell_type": "markdown",
   "id": "0fd2ecdb",
   "metadata": {},
   "source": [
    "Plotting histogram for most common words in positive reviews"
   ]
  },
  {
   "cell_type": "code",
   "execution_count": 71,
   "id": "c64ea3f4",
   "metadata": {},
   "outputs": [
    {
     "data": {
      "image/png": "[encoded data removed]",
      "text/plain": [
       "<Figure size 1000x600 with 1 Axes>"
      ]
     },
     "metadata": {},
     "output_type": "display_data"
    }
   ],
   "source": [
    "# Creating a histogram of the most common words in the positive reviews\n",
    "fig, ax = plt.subplots(figsize=(10,6))\n",
    "ax.bar([word[0] for word in positive_word_counts], [word[1] for word in positive_word_counts])\n",
    "ax.set_title('Most Common Words in Positive Reviews')\n",
    "ax.set_xlabel('Word')\n",
    "ax.set_ylabel('Frequency')\n",
    "plt.show()"
   ]
  },
  {
   "cell_type": "markdown",
   "id": "044440e8",
   "metadata": {},
   "source": [
    "The plot shows the most commonly used words in positive reviews of the recipes.This gives an idea of what customers like about the recipes."
   ]
  },
  {
   "cell_type": "markdown",
   "id": "b1508d45",
   "metadata": {},
   "source": [
    "Plotting histogram for the most common words used in the negative reviews"
   ]
  },
  {
   "cell_type": "code",
   "execution_count": 72,
   "id": "e6e09445",
   "metadata": {},
   "outputs": [
    {
     "data": {
      "image/png": "[encoded data removed]",
      "text/plain": [
       "<Figure size 1000x600 with 1 Axes>"
      ]
     },
     "metadata": {},
     "output_type": "display_data"
    }
   ],
   "source": [
    "# Creating a histogram of the most common words in the negative reviews\n",
    "fig, ax = plt.subplots(figsize=(10,6))\n",
    "ax.bar([word[0] for word in negative_word_counts], [word[1] for word in negative_word_counts])\n",
    "ax.set_title('Most Common Words in Negative Reviews')\n",
    "ax.set_xlabel('Word')\n",
    "ax.set_ylabel('Frequency')\n",
    "plt.show()"
   ]
  },
  {
   "cell_type": "markdown",
   "id": "b5de22e3",
   "metadata": {},
   "source": [
    "From the plot we can can identify the words are most commonly used in negative reviews, that gives idea of what customers dislike about the recipes. "
   ]
  },
  {
   "cell_type": "code",
   "execution_count": null,
   "id": "c2a95c87",
   "metadata": {},
   "outputs": [],
   "source": []
  }
 ],
 "metadata": {
  "kernelspec": {
   "display_name": "Python 3 (ipykernel)",
   "language": "python",
   "name": "python3"
  },
  "language_info": {
   "codemirror_mode": {
    "name": "ipython",
    "version": 3
   },
   "file_extension": ".py",
   "mimetype": "text/x-python",
   "name": "python",
   "nbconvert_exporter": "python",
   "pygments_lexer": "ipython3",
   "version": "3.9.13"
  }
 },
 "nbformat": 4,
 "nbformat_minor": 5
}
