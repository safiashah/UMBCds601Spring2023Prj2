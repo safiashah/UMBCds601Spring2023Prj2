{
 "cells": [
  {
   "cell_type": "markdown",
   "id": "02384354",
   "metadata": {},
   "source": [
    "### Dataset"
   ]
  },
  {
   "cell_type": "markdown",
   "id": "24875aed",
   "metadata": {},
   "source": [
    "The dataset that I choose is called \"BPD Part 1 Victim Based Crime Data\" and it contains information about reported crime incidents in the City of Baltimore, Maryland, USA from 2011 to 2016. The data is collected by the Baltimore Police Department (BPD) and is based on the National Incident-Based Reporting System (NIBRS)\n",
    "\n",
    "The dataset can be downloaded from the link: https://query.data.world/s/ta65lvu2ttt55dbkghtzjxeczlx2ky?dws=00000"
   ]
  },
  {
   "cell_type": "code",
   "execution_count": 1,
   "id": "491a77ed",
   "metadata": {},
   "outputs": [],
   "source": [
    "#Importing required libraries\n",
    "import pandas as pd\n",
    "import numpy as np\n",
    "import seaborn as sns\n",
    "import matplotlib.pyplot as plt"
   ]
  },
  {
   "cell_type": "code",
   "execution_count": 2,
   "id": "25dfdc4c",
   "metadata": {},
   "outputs": [],
   "source": [
    "# Loading the data into a datframe\n",
    "df = pd.read_csv('https://query.data.world/s/ta65lvu2ttt55dbkghtzjxeczlx2ky?dws=00000')"
   ]
  },
  {
   "cell_type": "markdown",
   "id": "2330b430",
   "metadata": {},
   "source": [
    "### Data Overview"
   ]
  },
  {
   "cell_type": "code",
   "execution_count": 3,
   "id": "e8ccaebf",
   "metadata": {},
   "outputs": [
    {
     "data": {
      "text/plain": [
       "(285807, 12)"
      ]
     },
     "execution_count": 3,
     "metadata": {},
     "output_type": "execute_result"
    }
   ],
   "source": [
    "#Checking the number of rows and columns\n",
    "df.shape"
   ]
  },
  {
   "cell_type": "code",
   "execution_count": 4,
   "id": "9c5b7f6f",
   "metadata": {},
   "outputs": [
    {
     "data": {
      "text/plain": [
       "Index(['CrimeDate', 'CrimeTime', 'CrimeCode', 'Location', 'Description',\n",
       "       'Inside/Outside', 'Weapon', 'Post', 'District', 'Neighborhood',\n",
       "       'Location 1', 'Total Incidents'],\n",
       "      dtype='object')"
      ]
     },
     "execution_count": 4,
     "metadata": {},
     "output_type": "execute_result"
    }
   ],
   "source": [
    "#Checking the column titles\n",
    "df.columns"
   ]
  },
  {
   "cell_type": "code",
   "execution_count": 5,
   "id": "ff49c421",
   "metadata": {},
   "outputs": [],
   "source": [
    "#Creating new columns Latitiude and Longitude from the Location 1 Column\n",
    "df[['Latitude','Longitude']]=df['Location 1'].str.split(',',expand=True)"
   ]
  },
  {
   "cell_type": "code",
   "execution_count": 6,
   "id": "ac2b6092",
   "metadata": {},
   "outputs": [
    {
     "data": {
      "text/plain": [
       "Index(['CrimeDate', 'CrimeTime', 'CrimeCode', 'Location', 'Description',\n",
       "       'Inside/Outside', 'Weapon', 'Post', 'District', 'Neighborhood',\n",
       "       'Location 1', 'Total Incidents', 'Latitude', 'Longitude'],\n",
       "      dtype='object')"
      ]
     },
     "execution_count": 6,
     "metadata": {},
     "output_type": "execute_result"
    }
   ],
   "source": [
    "#Checking the columns\n",
    "df.columns"
   ]
  },
  {
   "cell_type": "code",
   "execution_count": 7,
   "id": "b058d1cb",
   "metadata": {},
   "outputs": [
    {
     "name": "stderr",
     "output_type": "stream",
     "text": [
      "/var/folders/lp/hvqwsys13gb9c2ltmwl6lkt80000gn/T/ipykernel_71876/1553784253.py:2: FutureWarning: The default value of regex will change from True to False in a future version.\n",
      "  df['Latitude'] = df['Latitude'].str.replace(r'[^\\d.]+', '').astype('float64')\n",
      "/var/folders/lp/hvqwsys13gb9c2ltmwl6lkt80000gn/T/ipykernel_71876/1553784253.py:3: FutureWarning: The default value of regex will change from True to False in a future version.\n",
      "  df['Longitude'] = df['Longitude'].str.replace(r'[^\\d.]+', '').astype('float64')\n"
     ]
    }
   ],
   "source": [
    "#Converting the new columns into float datatype\n",
    "df['Latitude'] = df['Latitude'].str.replace(r'[^\\d.]+', '').astype('float64')\n",
    "df['Longitude'] = df['Longitude'].str.replace(r'[^\\d.]+', '').astype('float64')"
   ]
  },
  {
   "cell_type": "code",
   "execution_count": 8,
   "id": "55a10f22",
   "metadata": {},
   "outputs": [
    {
     "name": "stdout",
     "output_type": "stream",
     "text": [
      "<class 'pandas.core.frame.DataFrame'>\n",
      "RangeIndex: 285807 entries, 0 to 285806\n",
      "Data columns (total 14 columns):\n",
      " #   Column           Non-Null Count   Dtype  \n",
      "---  ------           --------------   -----  \n",
      " 0   CrimeDate        285807 non-null  object \n",
      " 1   CrimeTime        285807 non-null  object \n",
      " 2   CrimeCode        285807 non-null  object \n",
      " 3   Location         284184 non-null  object \n",
      " 4   Description      285807 non-null  object \n",
      " 5   Inside/Outside   281611 non-null  object \n",
      " 6   Weapon           97396 non-null   object \n",
      " 7   Post             285616 non-null  float64\n",
      " 8   District         285749 non-null  object \n",
      " 9   Neighborhood     284106 non-null  object \n",
      " 10  Location 1       284188 non-null  object \n",
      " 11  Total Incidents  285807 non-null  int64  \n",
      " 12  Latitude         284188 non-null  float64\n",
      " 13  Longitude        284188 non-null  float64\n",
      "dtypes: float64(3), int64(1), object(10)\n",
      "memory usage: 30.5+ MB\n"
     ]
    }
   ],
   "source": [
    "#Summary of the dataframe\n",
    "df.info()"
   ]
  },
  {
   "cell_type": "code",
   "execution_count": 9,
   "id": "79657351",
   "metadata": {},
   "outputs": [
    {
     "data": {
      "text/html": [
       "<div>\n",
       "<style scoped>\n",
       "    .dataframe tbody tr th:only-of-type {\n",
       "        vertical-align: middle;\n",
       "    }\n",
       "\n",
       "    .dataframe tbody tr th {\n",
       "        vertical-align: top;\n",
       "    }\n",
       "\n",
       "    .dataframe thead th {\n",
       "        text-align: right;\n",
       "    }\n",
       "</style>\n",
       "<table border=\"1\" class=\"dataframe\">\n",
       "  <thead>\n",
       "    <tr style=\"text-align: right;\">\n",
       "      <th></th>\n",
       "      <th>Post</th>\n",
       "      <th>Total Incidents</th>\n",
       "      <th>Latitude</th>\n",
       "      <th>Longitude</th>\n",
       "    </tr>\n",
       "  </thead>\n",
       "  <tbody>\n",
       "    <tr>\n",
       "      <th>count</th>\n",
       "      <td>285616.000000</td>\n",
       "      <td>285807.0</td>\n",
       "      <td>284188.000000</td>\n",
       "      <td>284188.000000</td>\n",
       "    </tr>\n",
       "    <tr>\n",
       "      <th>mean</th>\n",
       "      <td>504.234184</td>\n",
       "      <td>1.0</td>\n",
       "      <td>39.308704</td>\n",
       "      <td>76.617269</td>\n",
       "    </tr>\n",
       "    <tr>\n",
       "      <th>std</th>\n",
       "      <td>261.354783</td>\n",
       "      <td>0.0</td>\n",
       "      <td>0.061588</td>\n",
       "      <td>0.042107</td>\n",
       "    </tr>\n",
       "    <tr>\n",
       "      <th>min</th>\n",
       "      <td>0.000000</td>\n",
       "      <td>1.0</td>\n",
       "      <td>39.200410</td>\n",
       "      <td>76.517840</td>\n",
       "    </tr>\n",
       "    <tr>\n",
       "      <th>25%</th>\n",
       "      <td>242.000000</td>\n",
       "      <td>1.0</td>\n",
       "      <td>39.288380</td>\n",
       "      <td>76.587600</td>\n",
       "    </tr>\n",
       "    <tr>\n",
       "      <th>50%</th>\n",
       "      <td>445.000000</td>\n",
       "      <td>1.0</td>\n",
       "      <td>39.303690</td>\n",
       "      <td>76.613960</td>\n",
       "    </tr>\n",
       "    <tr>\n",
       "      <th>75%</th>\n",
       "      <td>723.000000</td>\n",
       "      <td>1.0</td>\n",
       "      <td>39.327570</td>\n",
       "      <td>76.648020</td>\n",
       "    </tr>\n",
       "    <tr>\n",
       "      <th>max</th>\n",
       "      <td>945.000000</td>\n",
       "      <td>1.0</td>\n",
       "      <td>41.629730</td>\n",
       "      <td>76.711440</td>\n",
       "    </tr>\n",
       "  </tbody>\n",
       "</table>\n",
       "</div>"
      ],
      "text/plain": [
       "                Post  Total Incidents       Latitude      Longitude\n",
       "count  285616.000000         285807.0  284188.000000  284188.000000\n",
       "mean      504.234184              1.0      39.308704      76.617269\n",
       "std       261.354783              0.0       0.061588       0.042107\n",
       "min         0.000000              1.0      39.200410      76.517840\n",
       "25%       242.000000              1.0      39.288380      76.587600\n",
       "50%       445.000000              1.0      39.303690      76.613960\n",
       "75%       723.000000              1.0      39.327570      76.648020\n",
       "max       945.000000              1.0      41.629730      76.711440"
      ]
     },
     "execution_count": 9,
     "metadata": {},
     "output_type": "execute_result"
    }
   ],
   "source": [
    "#Statistical summary\n",
    "df.describe()"
   ]
  },
  {
   "cell_type": "code",
   "execution_count": 10,
   "id": "9a5070e5",
   "metadata": {},
   "outputs": [
    {
     "data": {
      "text/html": [
       "<div>\n",
       "<style scoped>\n",
       "    .dataframe tbody tr th:only-of-type {\n",
       "        vertical-align: middle;\n",
       "    }\n",
       "\n",
       "    .dataframe tbody tr th {\n",
       "        vertical-align: top;\n",
       "    }\n",
       "\n",
       "    .dataframe thead th {\n",
       "        text-align: right;\n",
       "    }\n",
       "</style>\n",
       "<table border=\"1\" class=\"dataframe\">\n",
       "  <thead>\n",
       "    <tr style=\"text-align: right;\">\n",
       "      <th></th>\n",
       "      <th>CrimeDate</th>\n",
       "      <th>CrimeTime</th>\n",
       "      <th>CrimeCode</th>\n",
       "      <th>Location</th>\n",
       "      <th>Description</th>\n",
       "      <th>Inside/Outside</th>\n",
       "      <th>Weapon</th>\n",
       "      <th>Post</th>\n",
       "      <th>District</th>\n",
       "      <th>Neighborhood</th>\n",
       "      <th>Location 1</th>\n",
       "      <th>Total Incidents</th>\n",
       "      <th>Latitude</th>\n",
       "      <th>Longitude</th>\n",
       "    </tr>\n",
       "  </thead>\n",
       "  <tbody>\n",
       "    <tr>\n",
       "      <th>0</th>\n",
       "      <td>11/12/2016</td>\n",
       "      <td>02:35:00</td>\n",
       "      <td>3B</td>\n",
       "      <td>300 SAINT PAUL PL</td>\n",
       "      <td>ROBBERY - STREET</td>\n",
       "      <td>O</td>\n",
       "      <td>NaN</td>\n",
       "      <td>111.0</td>\n",
       "      <td>CENTRAL</td>\n",
       "      <td>Downtown</td>\n",
       "      <td>(39.2924100000, -76.6140800000)</td>\n",
       "      <td>1</td>\n",
       "      <td>39.29241</td>\n",
       "      <td>76.61408</td>\n",
       "    </tr>\n",
       "    <tr>\n",
       "      <th>1</th>\n",
       "      <td>11/12/2016</td>\n",
       "      <td>02:56:00</td>\n",
       "      <td>3CF</td>\n",
       "      <td>800 S BROADWAY</td>\n",
       "      <td>ROBBERY - COMMERCIAL</td>\n",
       "      <td>I</td>\n",
       "      <td>FIREARM</td>\n",
       "      <td>213.0</td>\n",
       "      <td>SOUTHEASTERN</td>\n",
       "      <td>Fells Point</td>\n",
       "      <td>(39.2824200000, -76.5928800000)</td>\n",
       "      <td>1</td>\n",
       "      <td>39.28242</td>\n",
       "      <td>76.59288</td>\n",
       "    </tr>\n",
       "    <tr>\n",
       "      <th>2</th>\n",
       "      <td>11/12/2016</td>\n",
       "      <td>03:00:00</td>\n",
       "      <td>6D</td>\n",
       "      <td>1500 PENTWOOD RD</td>\n",
       "      <td>LARCENY FROM AUTO</td>\n",
       "      <td>O</td>\n",
       "      <td>NaN</td>\n",
       "      <td>413.0</td>\n",
       "      <td>NORTHEASTERN</td>\n",
       "      <td>Stonewood-Pentwood-Winston</td>\n",
       "      <td>(39.3480500000, -76.5883400000)</td>\n",
       "      <td>1</td>\n",
       "      <td>39.34805</td>\n",
       "      <td>76.58834</td>\n",
       "    </tr>\n",
       "    <tr>\n",
       "      <th>3</th>\n",
       "      <td>11/12/2016</td>\n",
       "      <td>03:00:00</td>\n",
       "      <td>6D</td>\n",
       "      <td>6600 MILTON LN</td>\n",
       "      <td>LARCENY FROM AUTO</td>\n",
       "      <td>O</td>\n",
       "      <td>NaN</td>\n",
       "      <td>424.0</td>\n",
       "      <td>NORTHEASTERN</td>\n",
       "      <td>Westfield</td>\n",
       "      <td>(39.3626300000, -76.5516100000)</td>\n",
       "      <td>1</td>\n",
       "      <td>39.36263</td>\n",
       "      <td>76.55161</td>\n",
       "    </tr>\n",
       "    <tr>\n",
       "      <th>4</th>\n",
       "      <td>11/12/2016</td>\n",
       "      <td>03:00:00</td>\n",
       "      <td>6E</td>\n",
       "      <td>300 W BALTIMORE ST</td>\n",
       "      <td>LARCENY</td>\n",
       "      <td>O</td>\n",
       "      <td>NaN</td>\n",
       "      <td>111.0</td>\n",
       "      <td>CENTRAL</td>\n",
       "      <td>Downtown</td>\n",
       "      <td>(39.2893800000, -76.6197100000)</td>\n",
       "      <td>1</td>\n",
       "      <td>39.28938</td>\n",
       "      <td>76.61971</td>\n",
       "    </tr>\n",
       "  </tbody>\n",
       "</table>\n",
       "</div>"
      ],
      "text/plain": [
       "    CrimeDate CrimeTime CrimeCode            Location           Description  \\\n",
       "0  11/12/2016  02:35:00        3B   300 SAINT PAUL PL      ROBBERY - STREET   \n",
       "1  11/12/2016  02:56:00       3CF      800 S BROADWAY  ROBBERY - COMMERCIAL   \n",
       "2  11/12/2016  03:00:00        6D    1500 PENTWOOD RD     LARCENY FROM AUTO   \n",
       "3  11/12/2016  03:00:00        6D      6600 MILTON LN     LARCENY FROM AUTO   \n",
       "4  11/12/2016  03:00:00        6E  300 W BALTIMORE ST               LARCENY   \n",
       "\n",
       "  Inside/Outside   Weapon   Post      District                Neighborhood  \\\n",
       "0              O      NaN  111.0       CENTRAL                    Downtown   \n",
       "1              I  FIREARM  213.0  SOUTHEASTERN                 Fells Point   \n",
       "2              O      NaN  413.0  NORTHEASTERN  Stonewood-Pentwood-Winston   \n",
       "3              O      NaN  424.0  NORTHEASTERN                   Westfield   \n",
       "4              O      NaN  111.0       CENTRAL                    Downtown   \n",
       "\n",
       "                        Location 1  Total Incidents  Latitude  Longitude  \n",
       "0  (39.2924100000, -76.6140800000)                1  39.29241   76.61408  \n",
       "1  (39.2824200000, -76.5928800000)                1  39.28242   76.59288  \n",
       "2  (39.3480500000, -76.5883400000)                1  39.34805   76.58834  \n",
       "3  (39.3626300000, -76.5516100000)                1  39.36263   76.55161  \n",
       "4  (39.2893800000, -76.6197100000)                1  39.28938   76.61971  "
      ]
     },
     "execution_count": 10,
     "metadata": {},
     "output_type": "execute_result"
    }
   ],
   "source": [
    "#Checking the first 5 rows\n",
    "df.head()"
   ]
  },
  {
   "cell_type": "code",
   "execution_count": 11,
   "id": "1b4b5293",
   "metadata": {},
   "outputs": [
    {
     "data": {
      "text/html": [
       "<div>\n",
       "<style scoped>\n",
       "    .dataframe tbody tr th:only-of-type {\n",
       "        vertical-align: middle;\n",
       "    }\n",
       "\n",
       "    .dataframe tbody tr th {\n",
       "        vertical-align: top;\n",
       "    }\n",
       "\n",
       "    .dataframe thead th {\n",
       "        text-align: right;\n",
       "    }\n",
       "</style>\n",
       "<table border=\"1\" class=\"dataframe\">\n",
       "  <thead>\n",
       "    <tr style=\"text-align: right;\">\n",
       "      <th></th>\n",
       "      <th>CrimeDate</th>\n",
       "      <th>CrimeTime</th>\n",
       "      <th>CrimeCode</th>\n",
       "      <th>Location</th>\n",
       "      <th>Description</th>\n",
       "      <th>Inside/Outside</th>\n",
       "      <th>Weapon</th>\n",
       "      <th>Post</th>\n",
       "      <th>District</th>\n",
       "      <th>Neighborhood</th>\n",
       "      <th>Location 1</th>\n",
       "      <th>Total Incidents</th>\n",
       "      <th>Latitude</th>\n",
       "      <th>Longitude</th>\n",
       "    </tr>\n",
       "  </thead>\n",
       "  <tbody>\n",
       "    <tr>\n",
       "      <th>285802</th>\n",
       "      <td>01/01/2011</td>\n",
       "      <td>22:15:00</td>\n",
       "      <td>4D</td>\n",
       "      <td>6800 MCCLEAN BD</td>\n",
       "      <td>AGG. ASSAULT</td>\n",
       "      <td>I</td>\n",
       "      <td>HANDS</td>\n",
       "      <td>423.0</td>\n",
       "      <td>NORTHEASTERN</td>\n",
       "      <td>Hamilton Hills</td>\n",
       "      <td>(39.3704700000, -76.5670500000)</td>\n",
       "      <td>1</td>\n",
       "      <td>39.37047</td>\n",
       "      <td>76.56705</td>\n",
       "    </tr>\n",
       "    <tr>\n",
       "      <th>285803</th>\n",
       "      <td>01/01/2011</td>\n",
       "      <td>22:30:00</td>\n",
       "      <td>6J</td>\n",
       "      <td>3000 ODONNELL ST</td>\n",
       "      <td>LARCENY</td>\n",
       "      <td>I</td>\n",
       "      <td>NaN</td>\n",
       "      <td>232.0</td>\n",
       "      <td>SOUTHEASTERN</td>\n",
       "      <td>Canton</td>\n",
       "      <td>(39.2804600000, -76.5727300000)</td>\n",
       "      <td>1</td>\n",
       "      <td>39.28046</td>\n",
       "      <td>76.57273</td>\n",
       "    </tr>\n",
       "    <tr>\n",
       "      <th>285804</th>\n",
       "      <td>01/01/2011</td>\n",
       "      <td>23:00:00</td>\n",
       "      <td>7A</td>\n",
       "      <td>2500 ARUNAH AV</td>\n",
       "      <td>AUTO THEFT</td>\n",
       "      <td>O</td>\n",
       "      <td>NaN</td>\n",
       "      <td>721.0</td>\n",
       "      <td>WESTERN</td>\n",
       "      <td>Evergreen Lawn</td>\n",
       "      <td>(39.2954200000, -76.6592800000)</td>\n",
       "      <td>1</td>\n",
       "      <td>39.29542</td>\n",
       "      <td>76.65928</td>\n",
       "    </tr>\n",
       "    <tr>\n",
       "      <th>285805</th>\n",
       "      <td>01/01/2011</td>\n",
       "      <td>23:25:00</td>\n",
       "      <td>4E</td>\n",
       "      <td>100 N MONROE ST</td>\n",
       "      <td>COMMON ASSAULT</td>\n",
       "      <td>I</td>\n",
       "      <td>HANDS</td>\n",
       "      <td>714.0</td>\n",
       "      <td>WESTERN</td>\n",
       "      <td>Penrose/Fayette Street Outreach</td>\n",
       "      <td>(39.2899900000, -76.6470700000)</td>\n",
       "      <td>1</td>\n",
       "      <td>39.28999</td>\n",
       "      <td>76.64707</td>\n",
       "    </tr>\n",
       "    <tr>\n",
       "      <th>285806</th>\n",
       "      <td>01/01/2011</td>\n",
       "      <td>23:38:00</td>\n",
       "      <td>4D</td>\n",
       "      <td>800 N FREMONT AV</td>\n",
       "      <td>AGG. ASSAULT</td>\n",
       "      <td>I</td>\n",
       "      <td>HANDS</td>\n",
       "      <td>123.0</td>\n",
       "      <td>WESTERN</td>\n",
       "      <td>Upton</td>\n",
       "      <td>(39.2981200000, -76.6339100000)</td>\n",
       "      <td>1</td>\n",
       "      <td>39.29812</td>\n",
       "      <td>76.63391</td>\n",
       "    </tr>\n",
       "  </tbody>\n",
       "</table>\n",
       "</div>"
      ],
      "text/plain": [
       "         CrimeDate CrimeTime CrimeCode          Location     Description  \\\n",
       "285802  01/01/2011  22:15:00        4D   6800 MCCLEAN BD    AGG. ASSAULT   \n",
       "285803  01/01/2011  22:30:00        6J  3000 ODONNELL ST         LARCENY   \n",
       "285804  01/01/2011  23:00:00        7A    2500 ARUNAH AV      AUTO THEFT   \n",
       "285805  01/01/2011  23:25:00        4E   100 N MONROE ST  COMMON ASSAULT   \n",
       "285806  01/01/2011  23:38:00        4D  800 N FREMONT AV    AGG. ASSAULT   \n",
       "\n",
       "       Inside/Outside Weapon   Post      District  \\\n",
       "285802              I  HANDS  423.0  NORTHEASTERN   \n",
       "285803              I    NaN  232.0  SOUTHEASTERN   \n",
       "285804              O    NaN  721.0       WESTERN   \n",
       "285805              I  HANDS  714.0       WESTERN   \n",
       "285806              I  HANDS  123.0       WESTERN   \n",
       "\n",
       "                           Neighborhood                       Location 1  \\\n",
       "285802                   Hamilton Hills  (39.3704700000, -76.5670500000)   \n",
       "285803                           Canton  (39.2804600000, -76.5727300000)   \n",
       "285804                   Evergreen Lawn  (39.2954200000, -76.6592800000)   \n",
       "285805  Penrose/Fayette Street Outreach  (39.2899900000, -76.6470700000)   \n",
       "285806                            Upton  (39.2981200000, -76.6339100000)   \n",
       "\n",
       "        Total Incidents  Latitude  Longitude  \n",
       "285802                1  39.37047   76.56705  \n",
       "285803                1  39.28046   76.57273  \n",
       "285804                1  39.29542   76.65928  \n",
       "285805                1  39.28999   76.64707  \n",
       "285806                1  39.29812   76.63391  "
      ]
     },
     "execution_count": 11,
     "metadata": {},
     "output_type": "execute_result"
    }
   ],
   "source": [
    "#Checking the last 5 rows\n",
    "df.tail()"
   ]
  },
  {
   "cell_type": "markdown",
   "id": "a281c9a0",
   "metadata": {},
   "source": [
    "### Data Cleaning"
   ]
  },
  {
   "cell_type": "code",
   "execution_count": 12,
   "id": "53e8e174",
   "metadata": {},
   "outputs": [
    {
     "data": {
      "text/html": [
       "<div>\n",
       "<style scoped>\n",
       "    .dataframe tbody tr th:only-of-type {\n",
       "        vertical-align: middle;\n",
       "    }\n",
       "\n",
       "    .dataframe tbody tr th {\n",
       "        vertical-align: top;\n",
       "    }\n",
       "\n",
       "    .dataframe thead th {\n",
       "        text-align: right;\n",
       "    }\n",
       "</style>\n",
       "<table border=\"1\" class=\"dataframe\">\n",
       "  <thead>\n",
       "    <tr style=\"text-align: right;\">\n",
       "      <th></th>\n",
       "      <th>Count</th>\n",
       "      <th>Proportion</th>\n",
       "    </tr>\n",
       "  </thead>\n",
       "  <tbody>\n",
       "    <tr>\n",
       "      <th>CrimeDate</th>\n",
       "      <td>0</td>\n",
       "      <td>0.000000</td>\n",
       "    </tr>\n",
       "    <tr>\n",
       "      <th>CrimeTime</th>\n",
       "      <td>0</td>\n",
       "      <td>0.000000</td>\n",
       "    </tr>\n",
       "    <tr>\n",
       "      <th>CrimeCode</th>\n",
       "      <td>0</td>\n",
       "      <td>0.000000</td>\n",
       "    </tr>\n",
       "    <tr>\n",
       "      <th>Location</th>\n",
       "      <td>1623</td>\n",
       "      <td>0.005679</td>\n",
       "    </tr>\n",
       "    <tr>\n",
       "      <th>Description</th>\n",
       "      <td>0</td>\n",
       "      <td>0.000000</td>\n",
       "    </tr>\n",
       "    <tr>\n",
       "      <th>Inside/Outside</th>\n",
       "      <td>4196</td>\n",
       "      <td>0.014681</td>\n",
       "    </tr>\n",
       "    <tr>\n",
       "      <th>Weapon</th>\n",
       "      <td>188411</td>\n",
       "      <td>0.659225</td>\n",
       "    </tr>\n",
       "    <tr>\n",
       "      <th>Post</th>\n",
       "      <td>191</td>\n",
       "      <td>0.000668</td>\n",
       "    </tr>\n",
       "    <tr>\n",
       "      <th>District</th>\n",
       "      <td>58</td>\n",
       "      <td>0.000203</td>\n",
       "    </tr>\n",
       "    <tr>\n",
       "      <th>Neighborhood</th>\n",
       "      <td>1701</td>\n",
       "      <td>0.005952</td>\n",
       "    </tr>\n",
       "    <tr>\n",
       "      <th>Location 1</th>\n",
       "      <td>1619</td>\n",
       "      <td>0.005665</td>\n",
       "    </tr>\n",
       "    <tr>\n",
       "      <th>Total Incidents</th>\n",
       "      <td>0</td>\n",
       "      <td>0.000000</td>\n",
       "    </tr>\n",
       "    <tr>\n",
       "      <th>Latitude</th>\n",
       "      <td>1619</td>\n",
       "      <td>0.005665</td>\n",
       "    </tr>\n",
       "    <tr>\n",
       "      <th>Longitude</th>\n",
       "      <td>1619</td>\n",
       "      <td>0.005665</td>\n",
       "    </tr>\n",
       "  </tbody>\n",
       "</table>\n",
       "</div>"
      ],
      "text/plain": [
       "                  Count  Proportion\n",
       "CrimeDate             0    0.000000\n",
       "CrimeTime             0    0.000000\n",
       "CrimeCode             0    0.000000\n",
       "Location           1623    0.005679\n",
       "Description           0    0.000000\n",
       "Inside/Outside     4196    0.014681\n",
       "Weapon           188411    0.659225\n",
       "Post                191    0.000668\n",
       "District             58    0.000203\n",
       "Neighborhood       1701    0.005952\n",
       "Location 1         1619    0.005665\n",
       "Total Incidents       0    0.000000\n",
       "Latitude           1619    0.005665\n",
       "Longitude          1619    0.005665"
      ]
     },
     "execution_count": 12,
     "metadata": {},
     "output_type": "execute_result"
    }
   ],
   "source": [
    "#Calculaing the count and proportion of missing values\n",
    "null_count = df.isnull().sum()\n",
    "null_prop = null_count / len(df)\n",
    "pd.DataFrame({\n",
    "    'Count': null_count,\n",
    "    'Proportion': null_prop})"
   ]
  },
  {
   "cell_type": "code",
   "execution_count": 13,
   "id": "9a4682cb",
   "metadata": {},
   "outputs": [],
   "source": [
    "#Filling all the missing values in wapon with No Weapon, as No Weapons were detected\n",
    "df['Weapon'].fillna('NO WEAPON', inplace = True)"
   ]
  },
  {
   "cell_type": "code",
   "execution_count": 14,
   "id": "3a11726c",
   "metadata": {},
   "outputs": [
    {
     "data": {
      "text/plain": [
       "1    285807\n",
       "Name: Total Incidents, dtype: int64"
      ]
     },
     "execution_count": 14,
     "metadata": {},
     "output_type": "execute_result"
    }
   ],
   "source": [
    "#Checking the Total Incidents column  \n",
    "df['Total Incidents'].value_counts()"
   ]
  },
  {
   "cell_type": "code",
   "execution_count": 15,
   "id": "456a97bf",
   "metadata": {},
   "outputs": [],
   "source": [
    "#The Total Incidents column is the same throughout the dataset\n",
    "df = df.drop('Total Incidents',axis=1)"
   ]
  },
  {
   "cell_type": "code",
   "execution_count": 16,
   "id": "69f2d8ac",
   "metadata": {},
   "outputs": [],
   "source": [
    "#Cleaning CrimeTime and CrimeDate\n",
    "df['CrimeTime'] = df['CrimeTime'].str.replace('24:00:00', '00:00:00')"
   ]
  },
  {
   "cell_type": "code",
   "execution_count": 17,
   "id": "4b2ecc99",
   "metadata": {},
   "outputs": [],
   "source": [
    "df['Date'] = df['CrimeDate'] + ' ' + df['CrimeTime']"
   ]
  },
  {
   "cell_type": "code",
   "execution_count": null,
   "id": "1c34d071",
   "metadata": {},
   "outputs": [],
   "source": [
    "#Dropping the rows that has inconsistant data and time format\n",
    "dates = df['Date'].to_list()\n",
    "\n",
    "converted_dates = []\n",
    "errors = []\n",
    "for i in range(len(dates)):\n",
    "    try:\n",
    "        converted_dates.append(pd.to_datetime(dates[i]))\n",
    "    except:\n",
    "        converted_dates.append(pd.to_datetime('11/11/2030 00:00:00'))\n",
    "        errors.append(i)\n",
    "        print(i)\n",
    "        \n",
    "errors\n",
    "df['Date'] = converted_dates\n",
    "df = df.drop(df.index[errors])"
   ]
  },
  {
   "cell_type": "code",
   "execution_count": null,
   "id": "e2845a3f",
   "metadata": {},
   "outputs": [],
   "source": [
    "#Checking the number of rows dropped\n",
    "len(errors)"
   ]
  },
  {
   "cell_type": "code",
   "execution_count": null,
   "id": "73d439fd",
   "metadata": {},
   "outputs": [],
   "source": [
    "df['Date'] = pd.to_datetime(df['Date'])"
   ]
  },
  {
   "cell_type": "code",
   "execution_count": null,
   "id": "89612ba7",
   "metadata": {},
   "outputs": [],
   "source": [
    "#Creating seperate columns for Day, Month, Year.. Hours\n",
    "df['Day'] = df['Date'].dt.day\n",
    "df['Month'] = df['Date'].dt.month\n",
    "df['Year'] = df['Date'].dt.year\n",
    "df['Weekday'] = df['Date'].dt.weekday + 1\n",
    "df['Hour'] = df['Date'].dt.hour"
   ]
  },
  {
   "cell_type": "code",
   "execution_count": null,
   "id": "1a744b7c",
   "metadata": {},
   "outputs": [],
   "source": [
    "#Dropping the Crime Date and CrimeTime original columns \n",
    "df = df.drop(['CrimeDate', 'CrimeTime'], axis = 1)"
   ]
  },
  {
   "cell_type": "code",
   "execution_count": null,
   "id": "8e1cb6a6",
   "metadata": {},
   "outputs": [],
   "source": [
    "#Changing the default index to Date column\n",
    "df = df.set_index('Date')"
   ]
  },
  {
   "cell_type": "code",
   "execution_count": null,
   "id": "cd99f4d5",
   "metadata": {},
   "outputs": [],
   "source": [
    "#Cleaning Inside/Outside\n",
    "df['Inside/Outside'].value_counts()\n",
    "df['Inside/Outside'] = df['Inside/Outside'].replace('I', 'Inside')\n",
    "df['Inside/Outside'] = df['Inside/Outside'].replace('O', 'Outside')"
   ]
  },
  {
   "cell_type": "code",
   "execution_count": null,
   "id": "f95bd701",
   "metadata": {},
   "outputs": [],
   "source": [
    "#Cleanign Disctict Column\n",
    "df['District'] = df['District'].str.lower()\n",
    "df['District'] = df['District'].str.replace('northestern', 'northeastern')\n",
    "df['District'] = df['District'].str.replace('southestern', 'southeastern')"
   ]
  },
  {
   "cell_type": "markdown",
   "id": "341d3733",
   "metadata": {},
   "source": [
    "### Data Visualization"
   ]
  },
  {
   "cell_type": "code",
   "execution_count": null,
   "id": "19e12506",
   "metadata": {},
   "outputs": [],
   "source": [
    "#Hours\n",
    "plt.figure(figsize=(11,4))\n",
    "\n",
    "plt.title('Frequency of Crime by Hour of Day', fontsize=13)\n",
    "ax = sns.countplot(x = 'Hour', data = df,color='lightblue')\n",
    "plt.ylabel(\"Crime Frequency\", fontsize=13)\n",
    "plt.xlabel('Hour', fontsize=13)\n",
    "plt.plot()"
   ]
  },
  {
   "cell_type": "markdown",
   "id": "980175cc",
   "metadata": {},
   "source": [
    "From the graph, we can see that the number of crimes tends to increase during the late afternoon and evening hours. This trend is consistent with general crime patterns in many urban areas, where criminal activity tends to increase during the evening and nighttime hours when there are fewer people on the streets and less visibility.\n",
    "\n",
    "On the other hand, the early morning hours, between midnight and 6 am, have relatively fewer crime incidents, with the lowest point being around 5 am. As, Most people are indoors, which may reduce the likelihood of criminal activity."
   ]
  },
  {
   "cell_type": "code",
   "execution_count": null,
   "id": "b22319be",
   "metadata": {},
   "outputs": [],
   "source": [
    "#Day\n",
    "plt.figure(figsize=(11,4))\n",
    "\n",
    "plt.title('Frequency of Crime by Day of Month', fontsize=13)\n",
    "ax = sns.countplot(x = 'Day', data = df, color='lightblue')\n",
    "plt.ylabel(\"Crime Frequency\", fontsize=13)\n",
    "plt.xlabel('Day of Month', fontsize=13)\n",
    "plt.plot()"
   ]
  },
  {
   "cell_type": "markdown",
   "id": "b963f78a",
   "metadata": {},
   "source": [
    "From the graph, we can see that there is a slight variation in the frequency of crimes over the days of the month, with some days having slightly higher or lower crime incidents than others. However, there is no clear trend or pattern that stands out from this graph."
   ]
  },
  {
   "cell_type": "code",
   "execution_count": null,
   "id": "4e77708f",
   "metadata": {},
   "outputs": [],
   "source": [
    "#Weekday\n",
    "plt.figure(figsize=(11,4))\n",
    "\n",
    "plt.title('Frequency of Crime by Day of Week', fontsize=13)\n",
    "ax = sns.countplot(x = 'Weekday', data = df, color='lightblue')\n",
    "plt.ylabel(\"Crime Frequency\", fontsize=13)\n",
    "plt.xlabel('Day of Week', fontsize=13)\n",
    "labels = ['Monday', 'Tuesday', 'Wednesday', 'Thursday', 'Friday',' Saturday', 'Sunday']\n",
    "ax.set_xticklabels(labels)\n",
    "plt.plot()"
   ]
  },
  {
   "cell_type": "markdown",
   "id": "18a4cdf7",
   "metadata": {},
   "source": [
    "Graph shows that the number of crimes tends to be higher on weekdays (Monday to Friday) than on weekends (Saturday and Sunday), Peaks on Friday.\n",
    "\n",
    "This trend is consistent with general crime patterns in many urban areas, where criminal activity tends to be higher during weekdays when more people are out and about and businesses are open, and it drops during the weekends when fewer people are out and about."
   ]
  },
  {
   "cell_type": "code",
   "execution_count": null,
   "id": "d98391fc",
   "metadata": {},
   "outputs": [],
   "source": [
    "#Month\n",
    "plt.figure(figsize=(11,4))\n",
    "\n",
    "plt.title('Frequency of Crime by Month', fontsize=13)\n",
    "ax = sns.countplot(x = 'Month', data = df, color='lightblue')\n",
    "plt.ylabel(\"Crime Frequency\", fontsize=13)\n",
    "plt.xlabel('Month', fontsize=13)\n",
    "plt.xticks(rotation = 90)\n",
    "labels = ['January', 'February', 'March', 'April', 'May', 'June', 'July', 'August', 'September', 'October', 'November', 'December'] \n",
    "ax.set_xticklabels(labels)\n",
    "plt.plot()"
   ]
  },
  {
   "cell_type": "markdown",
   "id": "fdfe41db",
   "metadata": {},
   "source": [
    "Graph shows that the number of crimes tends to be higher during the summer months (May,June, July, and August) than during the winter months (December, January, and February).\n",
    "\n",
    "Criminal activity tends to increase during warmer months when more people are out and about and when there is more daylight. On the other hand, the colder months may see a decrease in criminal activity due to fewer people being out and about and fewer daylight hours."
   ]
  },
  {
   "cell_type": "code",
   "execution_count": null,
   "id": "83f1e77d",
   "metadata": {},
   "outputs": [],
   "source": [
    "#Year\n",
    "plt.figure(figsize=(11,4))\n",
    "\n",
    "plt.title('Frequency of Crime by Year', fontsize=13)\n",
    "ax = sns.countplot(x = 'Year', data = df, color='lightblue')\n",
    "plt.ylabel(\"Crime Frequency\", fontsize=13)\n",
    "plt.xlabel('Year', fontsize=13)\n",
    "plt.plot()"
   ]
  },
  {
   "cell_type": "markdown",
   "id": "cfe37c57",
   "metadata": {},
   "source": [
    "We can see that there is a decreasing trend in the frequency of crimes in Baltimore over the years.This trend is a positive sign and may be due to various factors, such as law enforcement efforts, community outreach, and crime prevention strategies"
   ]
  },
  {
   "cell_type": "code",
   "execution_count": null,
   "id": "513bd12d",
   "metadata": {},
   "outputs": [],
   "source": [
    "#Crime Description\n",
    "ordered = list(df['Description'].value_counts().sort_values(ascending=False).index)\n",
    "plt.figure(figsize=(20,6))\n",
    "plt.title('Frequency of Crime by Police Description', fontsize=13)\n",
    "ax = sns.countplot(x = 'Description', data = df,color='lightblue',order=ordered)\n",
    "plt.ylabel(\"Crime Frequency\", fontsize=13)\n",
    "plt.xlabel('Description', fontsize=13)\n",
    "plt.xticks(rotation = 90)\n",
    "plt.plot()"
   ]
  },
  {
   "cell_type": "markdown",
   "id": "3a273020",
   "metadata": {},
   "source": [
    "From the graph, we can see that the most common police descriptions of crimes are \"LARCENY\" and \"COMMON ASSAULT\", followed by \"BURGLARY\" and \"LARCENY FROM AUTO\". \n",
    "\n",
    "This graph provides useful insights into the types of crimes that are most prevalent in Baltimore and can be used to inform crime prevention strategies"
   ]
  },
  {
   "cell_type": "code",
   "execution_count": null,
   "id": "89de23d3",
   "metadata": {},
   "outputs": [],
   "source": [
    "#Clubbing similar crime types to make it easier to understand\n",
    "def update(x):\n",
    "    mydict = {'COMMON ASSAULT':'ASSAULT','ASSAULT BY THREAT':'ASSAULT','AGG. ASSAULT':'ASSAULT', 'LARCENY FROM AUTO':'LARCENY','LARCENY':'LARCENY', 'RAPE':'RAPE', 'ROBBERY - COMMERCIAL':'ROBBERY','ROBBERY - RESIDENCE':'ROBBERY','ROBBERY - STREET':'ROBBERY','ROBBERY - CARJACKING':'ROBBERY', 'SHOOTING':'SHOOTING','BURGLARY':'BURGLARY','AUTO THEFT':'AUTO THEFT', 'HOMICIDE':'HOMICIDE','ARSON':'ARSON'}\n",
    "    return mydict[x]\n",
    "\n",
    "updated_description = list(map(update, df['Description'].to_list()))\n",
    "df['updated_description'] = updated_description"
   ]
  },
  {
   "cell_type": "code",
   "execution_count": null,
   "id": "7fa4787b",
   "metadata": {},
   "outputs": [],
   "source": [
    "for i in set(df['updated_description'].to_list()):\n",
    "    print(i +': '+str(len(df[df['updated_description']==i])))"
   ]
  },
  {
   "cell_type": "code",
   "execution_count": null,
   "id": "1b803382",
   "metadata": {},
   "outputs": [],
   "source": [
    "plt.figure(figsize=(20,15), dpi=80)\n",
    "plt.title('Frequency of Crime by wrt updated_description', fontsize=15)\n",
    "ax = sns.countplot(x = 'Year', data = df, hue='updated_description')\n",
    "plt.ylabel(\"Crime Frequency\", fontsize=15)\n",
    "plt.xlabel('Day of Week', fontsize=15)\n",
    "plt.plot()"
   ]
  },
  {
   "cell_type": "markdown",
   "id": "e4fe3a25",
   "metadata": {},
   "source": [
    "The plot shows that LARCENY is the most common crime in Baltimore, followed by ASSAULT and BURGLARY. The trend for these crimes shows a slight decrease in Crime frequency\n",
    "\n",
    "The plot also shows a significant increase in the frequency of SHOOTING in 2015, which continued to increase until 2016. There is also a noticeable increase in HOMICIDE in 2015\n",
    "\n",
    "Overall, the plot suggests that the crime rate in Baltimore has been decreasing, but certain crimes like SHOOTING and HOMICIDE still require special attention."
   ]
  },
  {
   "cell_type": "code",
   "execution_count": null,
   "id": "a1bb671b",
   "metadata": {},
   "outputs": [],
   "source": [
    "#weapons per year\n",
    "plt.figure(figsize = (11, 4))\n",
    "\n",
    "ax = sns.countplot(x = \"Year\", hue = \"Weapon\", data = df)\n",
    "plt.title('Weapons per year', fontsize=15)\n",
    "plt.ylabel(\"Frequency of Crime per Year Grouped by Weapon Used\", fontsize = 13)\n",
    "plt.ylabel(\"Crime Frequency\", fontsize = 13)\n",
    "plt.xlabel(\"Year\", fontsize = 13)\n",
    "plt.plot()"
   ]
  },
  {
   "cell_type": "markdown",
   "id": "2d27df6f",
   "metadata": {},
   "source": [
    "From the graph, we can see that the use of FIREARM and OTHER types of Weapons has incresed during the year 2015"
   ]
  },
  {
   "cell_type": "code",
   "execution_count": null,
   "id": "2152a9b4",
   "metadata": {},
   "outputs": [],
   "source": [
    "#Crime per district\n",
    "plt.figure(figsize=(10,4))\n",
    "\n",
    "plt.title('Frequency of Crime by District', fontsize=13)\n",
    "ax = sns.countplot(x = 'District', data = df,color='lightblue', order=['northeastern','southeastern','central','southern','northern','northwestern','southwestern','eastern','western','gay street'])\n",
    "plt.ylabel(\"Crime Frequency\", fontsize=13)\n",
    "plt.xlabel('District', fontsize=13)\n",
    "plt.xticks(rotation = 90)\n",
    "plt.plot()"
   ]
  },
  {
   "cell_type": "markdown",
   "id": "1b6b6d4e",
   "metadata": {},
   "source": [
    "The graph also shows that the eastern and western districts have a significantly lower frequency of crime compared to other districts"
   ]
  },
  {
   "cell_type": "code",
   "execution_count": null,
   "id": "c21ce631",
   "metadata": {},
   "outputs": [],
   "source": [
    "#Crime per district (Inside or Outside)\n",
    "plt.figure(figsize=(11,4))\n",
    "plt.title('Frequency of Crime by District', fontsize=13)\n",
    "ax = sns.countplot(x = 'District', hue = 'Inside/Outside', data = df, order=['northeastern','southeastern','central','southern','northern','northwestern','southwestern','eastern','western','gay street'])\n",
    "plt.ylabel(\"Crime Frequency\", fontsize=13)\n",
    "plt.xlabel('District', fontsize=13)\n",
    "plt.xticks(rotation = 90)\n",
    "plt.plot()"
   ]
  },
  {
   "cell_type": "markdown",
   "id": "b6efcda1",
   "metadata": {},
   "source": [
    "The district of northeastern has the highest number of crime incidents, followed by southeastern and central districts. In most of the districts the are equal chances of crime inside and outside"
   ]
  },
  {
   "cell_type": "code",
   "execution_count": null,
   "id": "e3bf3181",
   "metadata": {},
   "outputs": [],
   "source": [
    "#Crime per Neighbourhood \n",
    "def get_top_categories(data, column_name, n):\n",
    "    top_categories = data[column_name].value_counts().head(n).index.tolist()\n",
    "    filtered_data = data[data[column_name].isin(top_categories)]\n",
    "    return filtered_data\n",
    "neigh_df = get_top_categories(df, 'Neighborhood',10)"
   ]
  },
  {
   "cell_type": "code",
   "execution_count": null,
   "id": "33a9c188",
   "metadata": {},
   "outputs": [],
   "source": [
    "#Plotting Graphs with respect to neighbourhood\n",
    "plt.figure(figsize=(12,6))\n",
    "plt.title('Crime per Neighborhood', fontsize=13)\n",
    "category_order = df['Neighborhood'].value_counts().head(10).index.tolist()\n",
    "sns.countplot(x=neigh_df['Neighborhood'], order=category_order, color='lightblue')\n",
    "plt.xticks(rotation=90)\n",
    "plt.show()"
   ]
  },
  {
   "cell_type": "markdown",
   "id": "3497a411",
   "metadata": {},
   "source": [
    "The graph indicates that the Downtown and Frankford neighborhoods have the highest crime frequencies\n",
    "\n",
    "As Downtown, Inner Harbor and Mondawin neighborhood are pretty popular as a tourist places, It's advisible to visit with caution."
   ]
  },
  {
   "cell_type": "markdown",
   "id": "e40dd5aa",
   "metadata": {},
   "source": [
    "### Visualizing crime on map using folium"
   ]
  },
  {
   "cell_type": "markdown",
   "id": "3a97668e",
   "metadata": {},
   "source": [
    "This gives an overview of how the crime is spread across the city, The darker zones have the highest crime rate"
   ]
  },
  {
   "cell_type": "code",
   "execution_count": null,
   "id": "5c52e1d6",
   "metadata": {},
   "outputs": [],
   "source": [
    "pip install folium"
   ]
  },
  {
   "cell_type": "code",
   "execution_count": null,
   "id": "b90d0556",
   "metadata": {},
   "outputs": [],
   "source": [
    "#importing folium this package helps to visualize using heatmaps\n",
    "import folium\n",
    "from folium.plugins import HeatMap"
   ]
  },
  {
   "cell_type": "code",
   "execution_count": null,
   "id": "1fbb35db",
   "metadata": {},
   "outputs": [],
   "source": [
    "df = df[pd.notnull(df['Latitude'])]\n",
    "df = df[pd.notnull(df['Longitude'])]"
   ]
  },
  {
   "cell_type": "code",
   "execution_count": null,
   "id": "87fceb18",
   "metadata": {},
   "outputs": [],
   "source": [
    "print(df['Latitude'].median())\n",
    "print(df['Longitude'].median())"
   ]
  },
  {
   "cell_type": "code",
   "execution_count": null,
   "id": "2ff18b86",
   "metadata": {},
   "outputs": [],
   "source": [
    "#Function to generate map based on the longitude and lattitude\n",
    "def generateBaseMap(default_location = [39.30364, -76.6139599], default_zoom_start = 12):\n",
    "    base_map = folium.Map(location = default_location, control_scale = True, zoom_start = default_zoom_start)\n",
    "    return base_map"
   ]
  },
  {
   "cell_type": "code",
   "execution_count": null,
   "id": "7312be17",
   "metadata": {},
   "outputs": [],
   "source": [
    "base_map = generateBaseMap()"
   ]
  },
  {
   "cell_type": "code",
   "execution_count": null,
   "id": "5c775082",
   "metadata": {},
   "outputs": [],
   "source": [
    "#Plotting heapmap for weapon\n",
    "df['count'] = 1\n",
    "df_murder = df[df['Weapon'] == 'FIREARM']"
   ]
  },
  {
   "cell_type": "code",
   "execution_count": null,
   "id": "b489edaa",
   "metadata": {
    "scrolled": true
   },
   "outputs": [],
   "source": [
    "df_murder['Longitude'] = df_murder[\"Longitude\"]*-1"
   ]
  },
  {
   "cell_type": "code",
   "execution_count": null,
   "id": "227215ab",
   "metadata": {},
   "outputs": [],
   "source": [
    "#Generating heatmap\n",
    "HeatMap(\n",
    "        data = df_murder[['Latitude', 'Longitude', 'count']].groupby(\n",
    "            ['Latitude', 'Longitude']).sum().reset_index().values.tolist(),\n",
    "        radius = 12,\n",
    "        max_zoom = 13).add_to(base_map)\n",
    "base_map"
   ]
  },
  {
   "cell_type": "markdown",
   "id": "3d8789f6",
   "metadata": {},
   "source": [
    "Key Takeaways:\n",
    "1. Crime frequency varies slightly over the days of the month, but no clear trend or pattern stands out.\n",
    "2. Crime incidents tend to be higher on weekdays than on weekends, with a peak on Friday.\n",
    "3. Crime frequency is higher during the summer months than during the winter months.\n",
    "4. There is a decreasing trend in the frequency of crimes in Baltimore over the years.\n",
    "5. LARCENY and COMMON ASSAULT are the most common police descriptions of crimes in Baltimore, followed by BURGLARY and LARCENY FROM AUTO.\n",
    "6. LARCENY is the most common crime in Baltimore, followed by ASSAULT and BURGLARY. There is a slight decrease in the frequency of these crimes, but SHOOTING and HOMICIDE still require special attention.\n",
    "7. The use of FIREARM and OTHER types of Weapons has increased during the year 2015.\n",
    "8. The eastern and western districts have a significantly lower frequency of crime compared to other districts.\n",
    "9. The northeastern district has the highest number of crime incidents, followed by the southeastern and central districts.\n",
    "10. Downtown and Frankford neighborhoods have the highest crime frequencies in Baltimore, and caution should be exercised while visiting these areas."
   ]
  },
  {
   "cell_type": "code",
   "execution_count": null,
   "id": "495d6f21",
   "metadata": {},
   "outputs": [],
   "source": []
  }
 ],
 "metadata": {
  "kernelspec": {
   "display_name": "Python 3 (ipykernel)",
   "language": "python",
   "name": "python3"
  },
  "language_info": {
   "codemirror_mode": {
    "name": "ipython",
    "version": 3
   },
   "file_extension": ".py",
   "mimetype": "text/x-python",
   "name": "python",
   "nbconvert_exporter": "python",
   "pygments_lexer": "ipython3",
   "version": "3.9.13"
  }
 },
 "nbformat": 4,
 "nbformat_minor": 5
}
